{
 "cells": [
  {
   "cell_type": "code",
   "execution_count": 1,
   "id": "476f807d-ac64-4b61-871d-b3254b064dcf",
   "metadata": {},
   "outputs": [],
   "source": [
    "import matplotlib.pyplot as plt\n",
    "import numpy as np\n",
    "from scipy.stats import kstest\n",
    "from scipy.interpolate import interp1d\n",
    "import matplotlib as mpl\n",
    "from tqdm import tqdm\n",
    "from scipy.integrate import quad\n",
    "from scipy.special import factorial, eval_hermite, comb\n",
    "from qutip import *\n",
    "import cvxpy as cp\n",
    "import time\n",
    "from joblib import Parallel, delayed"
   ]
  },
  {
   "cell_type": "code",
   "execution_count": 2,
   "id": "2aa27f67-f5c3-4fc9-a221-d7d8eb75bc8e",
   "metadata": {},
   "outputs": [
    {
     "data": {
      "image/png": "[encoded data removed]",
      "text/plain": [
       "<Figure size 800x400 with 2 Axes>"
      ]
     },
     "metadata": {},
     "output_type": "display_data"
    }
   ],
   "source": [
    "N=10\n",
    "\n",
    "idc = qeye(N)\n",
    "ida = qeye(2)\n",
    "a  = tensor(destroy(N), ida)\n",
    "sm = tensor(idc, destroy(2))\n",
    "sx = tensor(idc, sigmax())\n",
    "sy = tensor(idc, sigmay())\n",
    "sz = tensor(idc, sigmaz())\n",
    "\n",
    "# cavity photon number operator\n",
    "N_cav = tensor(num(N), ida)\n",
    "\n",
    "# projection operators to qubit ground and excited state\n",
    "proj0 = tensor(idc, basis(2,0).proj())\n",
    "proj1 = tensor(idc, basis(2,1).proj())\n",
    "\n",
    "\n",
    "initial_cavity = coherent(N, 1j*1)\n",
    "\n",
    "\n",
    "alpha = 1.41\n",
    "initial_cavity = (coherent(N, alpha) + coherent(N,-alpha)).unit()\n",
    "\n",
    "#initial_cavity = fock(N, 3) \n",
    "\n",
    "\n",
    "psi0 = tensor(initial_cavity, basis(2,0))\n",
    "n_init = expect(N_cav, psi0)\n",
    "plot_wigner_fock_distribution(initial_cavity);"
   ]
  },
  {
   "cell_type": "code",
   "execution_count": 3,
   "id": "2328c09b-ea1d-4f6a-a848-59ccdc3ac0bf",
   "metadata": {},
   "outputs": [],
   "source": [
    "def U_interact(g):\n",
    "    op = (-1j) * g * (a.dag() * sm + a * sm.dag())\n",
    "    return op.expm() \n",
    "\n",
    "def rotateX(theta):\n",
    "    op = (-1j) * (theta/2) * sx\n",
    "    return op.expm()\n",
    "\n",
    "def rotateY(theta):\n",
    "    op = (-1j) * (theta/2) * sy\n",
    "    return op.expm()\n",
    "\n",
    "def rotateXY(theta,rotangl):\n",
    "    op = (-1j) * (theta/2) * (np.cos(rotangl)* sx + np.sin(rotangl)* sy)\n",
    "    return op.expm()"
   ]
  },
  {
   "cell_type": "code",
   "execution_count": 4,
   "id": "5357ceb2-7792-482d-933a-ae71635f116a",
   "metadata": {},
   "outputs": [],
   "source": [
    "def find_first_zero(func, tol=0.5e-2, max=2000):\n",
    "    for i in np.arange(max):\n",
    "        if func(i) < tol:\n",
    "            return i"
   ]
  },
  {
   "cell_type": "markdown",
   "id": "4ccfe93d-1d60-4861-af69-4065eba4305b",
   "metadata": {},
   "source": [
    "## Params"
   ]
  },
  {
   "cell_type": "code",
   "execution_count": 5,
   "id": "fd6f07c2-095f-4f5f-b1fd-2428e924797d",
   "metadata": {},
   "outputs": [],
   "source": [
    "Ntrajs = 500\n",
    "\n",
    "dt = 0.3\n",
    "dt_total = 1\n",
    "factor = dt_total/dt"
   ]
  },
  {
   "cell_type": "markdown",
   "id": "e24dd3c9-b16a-4448-8e8f-05561be5727a",
   "metadata": {},
   "source": [
    "# Constant coupling"
   ]
  },
  {
   "cell_type": "code",
   "execution_count": 6,
   "id": "9f39401f-ce34-4890-aa39-f91d484effca",
   "metadata": {
    "tags": []
   },
   "outputs": [],
   "source": [
    "# generate interaction Hamiltonian with strength gint\n",
    "prng = np.random.RandomState(12775425)\n",
    "qbfeedback = rotateX(np.pi) # this pulse will reset the qubit if found in the excited state\n",
    "\n",
    "def get_measurements_hist_Nmeas_const(rotangl, theta, kappa, n_init):\n",
    "    U_int = U_interact(theta)\n",
    "    # loss operator\n",
    "    L = liouvillian(0*a, [np.sqrt(kappa*dt_total)*a])\n",
    "    op = L.expm()\n",
    "    \n",
    "    qbrotmat = rotateXY(np.pi/2,rotangl) # qb rotation applied prior to qb measurement, defines measured homodyne quadrature\n",
    "    \n",
    "    quadmeashom = []\n",
    "    \n",
    "    def calc_weights(step):\n",
    "        return (theta/np.sqrt(2))*np.exp(-step*(theta**2/2))\n",
    "\n",
    "    def pop_time_evol(step):\n",
    "        return n_init*np.exp(-step*(theta**2))\n",
    "        \n",
    "    Nmeas = find_first_zero(pop_time_evol)\n",
    "    \n",
    "    calculated_weights = np.array([calc_weights(step) for step in range(Nmeas)])\n",
    "\n",
    "    for j in tqdm(range(Ntrajs), leave=False):\n",
    "        xrnd = prng.rand(Nmeas)\n",
    "\n",
    "        results = []\n",
    "        psi = ket2dm(psi0)\n",
    "\n",
    "        for i in range(Nmeas):\n",
    "            U = qbrotmat * U_int\n",
    "            psi = U * psi * U.dag()\n",
    "            prob = expect(proj0,psi)          \n",
    "\n",
    "            # deterministic loss \n",
    "            vec_rho = operator_to_vector(psi)          \n",
    "            psi = vector_to_operator(op*vec_rho)\n",
    "\n",
    "            if prob > xrnd[i]:\n",
    "                # measured g\n",
    "                #results.append(-1 if error[i] <= correct_prob else 1) \n",
    "                results.append(-1)\n",
    "                psi = (proj0 * psi * proj0).unit()\n",
    "            else:\n",
    "                #results.append(1 if error[i] <= correct_prob else -1)\n",
    "                results.append(1)\n",
    "                # measured e\n",
    "                psi = (proj1 * psi * proj1 ).unit()\n",
    "                # go back to g\n",
    "                psi = qbfeedback * psi* qbfeedback.dag()\n",
    "    \n",
    "        quadmeashom.append(np.sum(results*calculated_weights))\n",
    "\n",
    "    ### create histogram ###    \n",
    "    hist, bins = np.histogram(quadmeashom,Nbins,[-k,k], density=True)    \n",
    "\n",
    "    return hist"
   ]
  },
  {
   "cell_type": "code",
   "execution_count": 7,
   "id": "b1c60332-5bd8-4920-9113-97763496b607",
   "metadata": {
    "tags": []
   },
   "outputs": [
    {
     "name": "stderr",
     "output_type": "stream",
     "text": [
      "[Parallel(n_jobs=-1)]: Using backend MultiprocessingBackend with 32 concurrent workers.\n",
      "[Parallel(n_jobs=-1)]: Done   8 tasks      | elapsed:    0.4s\n",
      "[Parallel(n_jobs=-1)]: Done  98 tasks      | elapsed:    1.4s\n",
      "[Parallel(n_jobs=-1)]: Done 224 tasks      | elapsed:    2.7s\n",
      "[Parallel(n_jobs=-1)]: Done 298 out of 300 | elapsed:    3.5s remaining:    0.0s\n",
      "[Parallel(n_jobs=-1)]: Done 300 out of 300 | elapsed:    3.5s finished\n"
     ]
    }
   ],
   "source": [
    "# homodyne setting for measurement operators\n",
    "nangles = 10\n",
    "thetas = np.linspace(0,np.pi, nangles) # list of all angles\n",
    "\n",
    "# histogram parameters\n",
    "Nbins = 30 # number of histogram bins\n",
    "k = 5  # bin edge limit\n",
    "dx =  2*k/Nbins # bin width\n",
    "\n",
    "\n",
    "#######\n",
    "N_large = 30 # need some additional dimensions to properly construct the noise-compensated operators\n",
    "\n",
    "### Define the harmonic oscillator wavefunction\n",
    "#To create homodyne POVM operators.\n",
    "\n",
    "def wavefunction(x,n):\n",
    "    const = 1/(np.sqrt(2**n * factorial(n)) * (np.pi)**0.25 )\n",
    "    rest = const* np.exp(-x**2/2)\n",
    "    return float(rest*eval_hermite(n,x))\n",
    "\n",
    "### Construct measurement operators\n",
    "def get_Pis(theta, i):\n",
    "    Pi = np.zeros((N_large,N_large),dtype=np.complex128)\n",
    "    for m in range(N_large):\n",
    "        wave_m = lambda x : wavefunction(x, m)\n",
    "        for n in range(N_large):\n",
    "            wave_n = lambda x: wavefunction(x, n)            \n",
    "            func = lambda x: wave_m(x)*wave_n(x)\n",
    "            Pi[n,m] = quad(func, -k + i*dx, -k + (i+1)*dx)[0]*np.exp(-1j*(n-m)*theta)\n",
    "            \n",
    "    return Pi*2 #\n",
    "\n",
    "Pis = Parallel(n_jobs=-1, verbose=5, backend=\"multiprocessing\")(delayed(get_Pis)(theta,i) for theta in thetas for i in range(Nbins))\n",
    "\n",
    "#The list `basis_dms` contains all $\\Omega_k$\n",
    "# funtions to construct vectors\n",
    "def get_basis_vectors(N_large):\n",
    "    # construct vectors\n",
    "    basis_vectors = []\n",
    "    for i in range(N_large):\n",
    "        vector = fock(N_large, i)\n",
    "        basis_vectors.append(np.real(vector.full()))\n",
    "    \n",
    "    return basis_vectors\n",
    "        \n",
    "def get_basis_dms(N_large, basis_vectors):    \n",
    "    # construct operators\n",
    "    basis_dms = []\n",
    "    for vector1 in basis_vectors:\n",
    "        for vector2 in basis_vectors:\n",
    "            dm = np.outer(vector1, vector2)\n",
    "            basis_dms.append(dm)\n",
    "            \n",
    "    return basis_dms\n",
    "\n",
    "basis_vectors  = get_basis_vectors(N_large) # needed for the adjusted operators\n",
    "basis_dms = get_basis_dms(N_large, basis_vectors)\n",
    "\n",
    "basis_vectors_cut = get_basis_vectors(N)\n",
    "basis_dms_cut = get_basis_dms(N, basis_vectors_cut)\n",
    "\n",
    "        \n",
    "### Construct noise adjusted measurement operators\n",
    "def B(n,k, eta):\n",
    "    return np.sqrt(comb(n+k,n) * eta**n * (1-eta)**k)"
   ]
  },
  {
   "cell_type": "code",
   "execution_count": 13,
   "id": "5aa25bc6-0e7c-4a01-aedb-891edc7c01a6",
   "metadata": {},
   "outputs": [
    {
     "name": "stdout",
     "output_type": "stream",
     "text": [
      "eta 0.9517821528517063 gamma 0.32898681336964525 0.9517821528517063\n"
     ]
    }
   ],
   "source": [
    "#### EXTERNAL LOSS RATE KAPPA ###########\n",
    "kappa = 0.005\n",
    "\n",
    "##### EFFECTIVE INTERACTION STRENGTH\n",
    "theta_int = 0.2*np.pi/2\n",
    "\n",
    "gamma = theta_int**2/dt\n",
    "gamma_effective = gamma/factor \n",
    "\n",
    "# choose to run with or without noise/loss compensation\n",
    "noise_comp = True\n",
    "\n",
    "if noise_comp == True:\n",
    "    # Efficiency eta\n",
    "    eta = gamma_effective/(gamma_effective + kappa) \n",
    "else:\n",
    "    eta = 1\n",
    "\n",
    "\n",
    "print(\"eta\", eta, 'gamma', gamma,gamma_effective/(gamma_effective + kappa) )"
   ]
  },
  {
   "cell_type": "code",
   "execution_count": 14,
   "id": "d3e755c1-96de-4b35-a2f5-9b5c39e8b7ba",
   "metadata": {},
   "outputs": [
    {
     "name": "stderr",
     "output_type": "stream",
     "text": [
      "[Parallel(n_jobs=10)]: Using backend LokyBackend with 10 concurrent workers.\n",
      "[Parallel(n_jobs=10)]: Done   2 out of  10 | elapsed:   34.8s remaining:  2.3min\n",
      "[Parallel(n_jobs=10)]: Done  10 out of  10 | elapsed:   38.7s finished\n"
     ]
    },
    {
     "name": "stdout",
     "output_type": "stream",
     "text": [
      "CPU times: user 6.09 s, sys: 851 ms, total: 6.94 s\n",
      "Wall time: 45 s\n"
     ]
    },
    {
     "data": {
      "image/png": "[encoded data removed]",
      "text/plain": [
       "<Figure size 800x400 with 2 Axes>"
      ]
     },
     "metadata": {},
     "output_type": "display_data"
    }
   ],
   "source": [
    "%%time\n",
    "\n",
    "# get histograms of measurement data\n",
    "b_all = Parallel(n_jobs=nangles, verbose=1, backend=\"loky\")(delayed(get_measurements_hist_Nmeas_const)(rotangl,theta_int, kappa, n_init) for rotangl in thetas)\n",
    "\n",
    "# Load homodyne data into vector $\\vec b$\n",
    "b = np.concatenate([array for array in b_all])\n",
    "\n",
    "def get_adjusted_op(i,j):\n",
    "    op = np.zeros((N_large,N_large), dtype=np.complex64)\n",
    "    for n in range(N_large):\n",
    "        for m in range(N_large):\n",
    "            for k in range(N_large-max(m,n)):\n",
    "                op += B(m,k,eta)*B(n,k,eta)*Pis[i*Nbins + j][m,n] * np.outer(basis_vectors[n+k], basis_vectors[m+k])#\n",
    "    return op\n",
    "\n",
    "op_list = Parallel(n_jobs=-1, verbose=0, backend=\"multiprocessing\")(delayed(get_adjusted_op)(i,j) for i in range(nangles) for j in range(Nbins))        \n",
    "\n",
    "    ### Construct the matrix A in $A\\vec\\rho=\\vec b$\n",
    "    #From `Pis` and `basis_dms`.\n",
    "    \n",
    "def func(index, a):\n",
    "        return np.trace(op_list[index[0]][:N,:N] @ basis_dms_cut[index[1]])\n",
    "    \n",
    "A = np.zeros((len(Pis), N*N), dtype=np.complex64)\n",
    "A_p = Parallel(n_jobs=-1, verbose=0, backend=\"multiprocessing\")(delayed(func)(idx,a) for idx, a in np.ndenumerate(A))\n",
    "    \n",
    "A = np.reshape(A_p, (len(Pis), N*N))\n",
    "\n",
    "X = cp.Variable((N,N), hermitian=True)\n",
    "\n",
    "cost = cp.norm(A @ cp.vec(X) - b, 2) \n",
    "\n",
    "#Set the trace constraint and positive-semidefinite constraint, respectively.\n",
    "constraints = [cp.trace(X) == 1, X >> 0 ]\n",
    "\n",
    "#Set up and solve the problem!\n",
    "\n",
    "prob = cp.Problem(cp.Minimize(cost), constraints)\n",
    "prob.solve(verbose=False)\n",
    "\n",
    "# Assign the optimized state X to a Qobj.\n",
    "reconstructed_rho = Qobj(X.value)\n",
    "\n",
    "f=fidelity(reconstructed_rho, initial_cavity)**2\n",
    "\n",
    "fig, ax = plot_wigner_fock_distribution(reconstructed_rho, alpha_max=5)\n",
    "ax[0].set_title(\"Reconstructed state\")\n",
    "\n",
    "f=fidelity(reconstructed_rho, initial_cavity)**2\n",
    "ax[1].set_title(\"Fidelity %.3f\"%(f));"
   ]
  },
  {
   "cell_type": "code",
   "execution_count": null,
   "id": "a5d93db0-8109-4d8f-a6d1-fe09ba24b09b",
   "metadata": {},
   "outputs": [],
   "source": []
  },
  {
   "cell_type": "code",
   "execution_count": null,
   "id": "ff194da0-62cb-4eb8-81df-28ce5b078220",
   "metadata": {},
   "outputs": [],
   "source": []
  }
 ],
 "metadata": {
  "kernelspec": {
   "display_name": "Python 3 (ipykernel)",
   "language": "python",
   "name": "python3"
  },
  "language_info": {
   "codemirror_mode": {
    "name": "ipython",
    "version": 3
   },
   "file_extension": ".py",
   "mimetype": "text/x-python",
   "name": "python",
   "nbconvert_exporter": "python",
   "pygments_lexer": "ipython3",
   "version": "3.11.3"
  }
 },
 "nbformat": 4,
 "nbformat_minor": 5
}
