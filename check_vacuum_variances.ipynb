{
 "cells": [
  {
   "cell_type": "markdown",
   "metadata": {},
   "source": [
    "# Test vacuum fluctuations\n",
    "To see that measurements are quantum limited."
   ]
  },
  {
   "cell_type": "code",
   "execution_count": 4,
   "metadata": {},
   "outputs": [],
   "source": [
    "import matplotlib.pyplot as plt\n",
    "from matplotlib import cm\n",
    "import cvxpy as cp\n",
    "\n",
    "import numpy as np\n",
    "\n",
    "from qutip import *\n",
    "from joblib import Parallel, delayed"
   ]
  },
  {
   "cell_type": "markdown",
   "metadata": {},
   "source": [
    "## Define operators"
   ]
  },
  {
   "cell_type": "code",
   "execution_count": 5,
   "metadata": {},
   "outputs": [],
   "source": [
    "N=5\n",
    "\n",
    "idc = qeye(N)\n",
    "ida = qeye(2)\n",
    "\n",
    "a  = tensor(destroy(N), ida)\n",
    "sm = tensor(idc, destroy(2)) # note that this is not qutip's sigmam() definition\n",
    "\n",
    "sx = tensor(idc, sigmax())\n",
    "sy = tensor(idc, sigmay())\n",
    "sz = tensor(idc, sigmaz())\n",
    "\n",
    "proj0 = tensor(idc, basis(2,0).proj())\n",
    "proj1 = tensor(idc, basis(2,1).proj())"
   ]
  },
  {
   "cell_type": "code",
   "execution_count": 22,
   "metadata": {},
   "outputs": [],
   "source": [
    "def interact(g):\n",
    "    op =   g * (a.dag() * sm - a * sm.dag())\n",
    "    return op.expm() \n",
    "\n",
    "def rotateX(theta):\n",
    "    op = (-1j) * (theta/2) * sx\n",
    "    return op.expm()\n",
    "\n",
    "def rotateY(theta):\n",
    "    op = (-1j) * (theta/2) * sy\n",
    "    return op.expm()\n",
    "\n",
    "def rotateXY(theta,rotangl):\n",
    "    op = (-1j) * (theta/2) * (np.cos(rotangl)* sx + np.sin(rotangl)* sy)\n",
    "    return op.expm()\n",
    "\n",
    "def interact(g):\n",
    "    op = (-1j) * g * (a.dag() * sm + a * sm.dag())\n",
    "    return op.expm() \n",
    "\n",
    "def U_int(g, dt):\n",
    "    Hint =  (-1j) *g*np.sqrt(dt) * (a.dag() * sm + a * sm.dag())\n",
    "    return Hint.expm()"
   ]
  },
  {
   "cell_type": "markdown",
   "metadata": {},
   "source": [
    "## Parameters and initialize vacuum state"
   ]
  },
  {
   "cell_type": "code",
   "execution_count": null,
   "metadata": {},
   "outputs": [],
   "source": [
    "# number of qubit measurements per trajectory (in total, both X and Y)\n",
    "Nmeas = 80\n",
    "\n",
    "# number of trajectories\n",
    "Ntrajs = 5000\n",
    "\n",
    "# interaction strength\n",
    "g = 0.4\n",
    "delta_t = 0.4\n",
    "dt = delta_t\n",
    "\n",
    "gamma = g**2\n",
    "\n",
    "gint = np.sqrt(gamma*delta_t)\n",
    "\n",
    "initial_cavity = fock(N, 0)\n",
    "\n",
    "psi0 = tensor(initial_cavity, basis(2,0))\n",
    "\n",
    "gint"
   ]
  },
  {
   "cell_type": "markdown",
   "metadata": {},
   "source": [
    "## Heterodyne detection"
   ]
  },
  {
   "cell_type": "code",
   "execution_count": 56,
   "metadata": {},
   "outputs": [],
   "source": [
    "# This is done simply by interleaving measurements of X and Y on the qubit\n",
    "\n",
    "# generate interaction Hamiltonian with strength gint\n",
    "Uint = U_int(g, delta_t)"
   ]
  },
  {
   "cell_type": "code",
   "execution_count": null,
   "metadata": {},
   "outputs": [],
   "source": [
    "nsteps = np.linspace(0,Nmeas-1,Nmeas)\n",
    "\n",
    "Neach = round(Nmeas/2)\n",
    "weights=np.sqrt(gamma*dt)* np.exp(-np.linspace(0,Neach-1,Neach)*gint**2/2)\n",
    "\n",
    "qbrotmat = [rotateXY(np.pi/2,0),rotateXY(np.pi/2,np.pi/2)] # # qb rotation applied prior to qb measurement. [rotate to X, rotate to Y]\n",
    "qbfeedback = rotateX(np.pi) # this pulse will reset the qubit if found in the excited state\n",
    "\n",
    "quadmeas = []\n",
    "\n",
    "# get integrated measurement results\n",
    "prng = np.random.RandomState(12775425)\n",
    "\n",
    "def get_heterodyne_meas():\n",
    "    \n",
    "    xrnd = np.random.rand(Nmeas)\n",
    "    #xrnd = prng.rand(Nmeas)\n",
    "    szexp = [[] for i in range(2)]\n",
    "    results =[[] for i in range(2)]\n",
    "    psi = psi0\n",
    "    \n",
    "    # individual qubit measurements\n",
    "    for i in range(Nmeas):\n",
    "        k = i % 2 # do X and Y every other round\n",
    "        \n",
    "        psi = qbrotmat[k] * (Uint * psi)        \n",
    "        prob = expect(proj0,psi)\n",
    "        \n",
    "        if prob > xrnd[i]:\n",
    "            # measured g\n",
    "            results[k].append(-1)\n",
    "            psi = (proj0 * psi).unit()\n",
    "        else:\n",
    "            # measured e\n",
    "            results[k].append(1)\n",
    "            psi = (proj1 * psi).unit()\n",
    "            # go back to g\n",
    "            psi = qbfeedback * psi\n",
    "\n",
    "    return np.sum(results[1]*weights) + 1j*np.sum(results[0]*weights)\n"
   ]
  },
  {
   "cell_type": "code",
   "execution_count": 26,
   "metadata": {},
   "outputs": [
    {
     "name": "stderr",
     "output_type": "stream",
     "text": [
      "[Parallel(n_jobs=-1)]: Using backend LokyBackend with 32 concurrent workers.\n",
      "[Parallel(n_jobs=-1)]: Done   8 tasks      | elapsed:    3.0s\n",
      "[Parallel(n_jobs=-1)]: Done  98 tasks      | elapsed:    3.7s\n",
      "[Parallel(n_jobs=-1)]: Done 224 tasks      | elapsed:    4.5s\n",
      "[Parallel(n_jobs=-1)]: Done 386 tasks      | elapsed:    5.3s\n",
      "[Parallel(n_jobs=-1)]: Done 584 tasks      | elapsed:    6.3s\n",
      "[Parallel(n_jobs=-1)]: Done 818 tasks      | elapsed:    7.4s\n",
      "[Parallel(n_jobs=-1)]: Done 1088 tasks      | elapsed:    8.6s\n",
      "[Parallel(n_jobs=-1)]: Done 1394 tasks      | elapsed:   10.2s\n",
      "[Parallel(n_jobs=-1)]: Done 1736 tasks      | elapsed:   11.8s\n",
      "[Parallel(n_jobs=-1)]: Done 2114 tasks      | elapsed:   13.5s\n",
      "[Parallel(n_jobs=-1)]: Done 2528 tasks      | elapsed:   15.3s\n",
      "[Parallel(n_jobs=-1)]: Done 3236 tasks      | elapsed:   17.7s\n",
      "[Parallel(n_jobs=-1)]: Done 4208 tasks      | elapsed:   20.7s\n",
      "[Parallel(n_jobs=-1)]: Done 5000 out of 5000 | elapsed:   22.9s finished\n"
     ]
    }
   ],
   "source": [
    "# NOTE: do NOT use backend multiprocessing here, it doesn't deal with xrnd = np.random.rand(Nmeas) properly\n",
    "quadmeas = Parallel(n_jobs=-1, verbose=5, backend=\"loky\")(delayed(get_heterodyne_meas)() for j in range(Ntrajs))"
   ]
  },
  {
   "cell_type": "code",
   "execution_count": 58,
   "metadata": {},
   "outputs": [],
   "source": [
    "# gaussian centered at 0\n",
    "def gauss(x, var):\n",
    "    const = 1/np.sqrt(var*2*np.pi)\n",
    "    return np.exp(-x**2/var /2) * const\n",
    "\n",
    "x = np.linspace(-3,3)"
   ]
  },
  {
   "cell_type": "markdown",
   "metadata": {},
   "source": [
    "### Matches Gaussian with variance 1"
   ]
  },
  {
   "cell_type": "code",
   "execution_count": 54,
   "metadata": {},
   "outputs": [
    {
     "data": {
      "image/png": "[encoded data removed]",
      "text/plain": [
       "<Figure size 900x300 with 2 Axes>"
      ]
     },
     "metadata": {},
     "output_type": "display_data"
    }
   ],
   "source": [
    "fig, axes = plt.subplots(1, 2, figsize=(9,3))\n",
    "\n",
    "Nbins=20\n",
    "\n",
    "# x and y switched\n",
    "real_meas = np.real(np.array(quadmeas))\n",
    "imag_meas = np.imag(np.array(quadmeas))\n",
    "\n",
    "# plot real and imaginary parts of measurement results to get 1D histograms\n",
    "axes[0].hist(real_meas ,Nbins,[-3,3], density=True)\n",
    "axes[1].hist(imag_meas,Nbins,[-3,3], density=True)\n",
    "\n",
    "variance_heterodyne = 1\n",
    "gaussian = gauss(x,variance_heterodyne)\n",
    "\n",
    "axes[0].plot(x,gaussian)\n",
    "axes[1].plot(x,gaussian)\n",
    "plt.show()"
   ]
  },
  {
   "cell_type": "markdown",
   "metadata": {},
   "source": [
    "## Homodyne"
   ]
  },
  {
   "cell_type": "code",
   "execution_count": 49,
   "metadata": {},
   "outputs": [],
   "source": [
    "# seed \n",
    "nsteps = np.linspace(0,Nmeas-1,Nmeas)\n",
    "weights=(gint/np.sqrt(2))*np.exp(-nsteps*(gint**2/2))\n",
    "\n",
    "# generate interaction Hamiltonian with strength gint\n",
    "\n",
    "# get measurement histogram for one homodyne angle\n",
    "def get_homodyne_meas(Ntrajs):\n",
    "    \n",
    "    ### simulate tomography ###\n",
    "    rotangl = 0\n",
    "    qbrotmat = rotateXY(np.pi/2,rotangl) # qb rotation applied prior to qb measurement, defines measured homodyne quadrature\n",
    "    \n",
    "    qbfeedback = rotateX(np.pi) # this pulse will reset the qubit if found in the excited state\n",
    "    measurements = [] # store weighted measurement results\n",
    "\n",
    "    for j in range(Ntrajs):\n",
    "        xrnd = np.random.rand(Nmeas)\n",
    "\n",
    "        results = []\n",
    "        psi = psi0\n",
    "\n",
    "        for i in range(Nmeas):\n",
    "            U = qbrotmat * Uint \n",
    "            \n",
    "            psi = U * psi \n",
    "            prob = expect(proj0,psi)          \n",
    "\n",
    "            \n",
    "            if prob > xrnd[i]:\n",
    "                # measured g\n",
    "                results.append(-1)\n",
    "                psi = (proj0 * psi).unit()\n",
    "            else:\n",
    "                results.append(1)\n",
    "                # measured e\n",
    "                psi = (proj1 * psi).unit()\n",
    "                # go back to g\n",
    "                psi = qbfeedback * psi\n",
    "    \n",
    "        measurements.append(np.sum(results*weights)) # integrate \n",
    "\n",
    "    return measurements "
   ]
  },
  {
   "cell_type": "code",
   "execution_count": 50,
   "metadata": {},
   "outputs": [],
   "source": [
    "Ntrajs = 1000\n",
    "measurements = get_homodyne_meas(1000)"
   ]
  },
  {
   "cell_type": "markdown",
   "metadata": {},
   "source": [
    "### Matches Gaussian with variance 1/2"
   ]
  },
  {
   "cell_type": "code",
   "execution_count": 57,
   "metadata": {},
   "outputs": [
    {
     "data": {
      "image/png": "[encoded data removed]",
      "text/plain": [
       "<Figure size 640x480 with 1 Axes>"
      ]
     },
     "metadata": {},
     "output_type": "display_data"
    }
   ],
   "source": [
    "plt.hist(measurements,Nbins,[-3,3], density=True)\n",
    "\n",
    "variance_homodyne = 1/2\n",
    "prob = gauss(x,variance_homodyne)\n",
    "plt.plot(x,prob);"
   ]
  }
 ],
 "metadata": {
  "kernelspec": {
   "display_name": "francois37",
   "language": "python",
   "name": "francois37"
  },
  "language_info": {
   "codemirror_mode": {
    "name": "ipython",
    "version": 3
   },
   "file_extension": ".py",
   "mimetype": "text/x-python",
   "name": "python",
   "nbconvert_exporter": "python",
   "pygments_lexer": "ipython3",
   "version": "3.7.16"
  },
  "widgets": {
   "application/vnd.jupyter.widget-state+json": {
    "state": {},
    "version_major": 2,
    "version_minor": 0
   }
  }
 },
 "nbformat": 4,
 "nbformat_minor": 4
}
