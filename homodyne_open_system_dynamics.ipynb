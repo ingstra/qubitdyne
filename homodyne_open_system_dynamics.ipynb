{
 "cells": [
  {
   "cell_type": "markdown",
   "metadata": {},
   "source": [
    "# Digital homodyne detection"
   ]
  },
  {
   "cell_type": "code",
   "execution_count": 1,
   "metadata": {},
   "outputs": [],
   "source": [
    "import matplotlib.pyplot as plt\n",
    "import cvxpy as cp\n",
    "import numpy as np\n",
    "\n",
    "from qutip import *\n",
    "\n",
    "from scipy.special import factorial, eval_hermite, comb\n",
    "from scipy.integrate import quad\n",
    "from joblib import Parallel, delayed"
   ]
  },
  {
   "cell_type": "markdown",
   "metadata": {
    "tags": []
   },
   "source": [
    "## Define basic operators"
   ]
  },
  {
   "cell_type": "code",
   "execution_count": null,
   "metadata": {},
   "outputs": [],
   "source": [
    "N=4\n",
    "\n",
    "idc = qeye(N)\n",
    "ida = qeye(2)\n",
    "N_cav = tensor(num(N), ida)\n",
    "\n",
    "a  = tensor(destroy(N), ida)\n",
    "sm = tensor(idc, destroy(2)) # note that this is not qutip's sigmam() definition\n",
    "\n",
    "sx = tensor(idc, sigmax())\n",
    "sy = tensor(idc, sigmay())\n",
    "sz = tensor(idc, sigmaz())\n",
    "\n",
    "proj0 = tensor(idc, basis(2,0).proj())\n",
    "proj1 = tensor(idc, basis(2,1).proj())"
   ]
  },
  {
   "cell_type": "markdown",
   "metadata": {
    "tags": []
   },
   "source": [
    "## Define unitaries"
   ]
  },
  {
   "cell_type": "code",
   "execution_count": null,
   "metadata": {},
   "outputs": [],
   "source": [
    "def rotateX(theta):\n",
    "    op = (-1j) * (theta/2) * sx\n",
    "    return op.expm()\n",
    "\n",
    "def rotateY(theta):\n",
    "    op = (-1j) * (theta/2) * sy\n",
    "    return op.expm()\n",
    "\n",
    "def rotateXY(theta,rotangl):\n",
    "    op = (-1j) * (theta/2) * (np.cos(rotangl)* sx + np.sin(rotangl)* sy)\n",
    "    return op.expm()\n",
    "\n",
    "def H_int(g, dt):\n",
    "    Hint = (-1j) * g*np.sqrt(dt) * (a.dag() * sm + a * sm.dag())\n",
    "    return Hint.expm()\n",
    "\n",
    "def U_gint(gint):\n",
    "    H = (-1j) * gint * (a.dag() * sm + a * sm.dag())\n",
    "    return H.expm()"
   ]
  },
  {
   "cell_type": "markdown",
   "metadata": {},
   "source": [
    "## Parameters and initial state"
   ]
  },
  {
   "cell_type": "code",
   "execution_count": null,
   "metadata": {},
   "outputs": [],
   "source": [
    "# number of qubit measurements per trajectory\n",
    "Nmeas = 80\n",
    "\n",
    "# number of trajectories\n",
    "Ntrajs = 1000\n",
    "\n",
    "# interaction strength\n",
    "g = 0.4\n",
    "\n",
    "delta_t = 0.4\n",
    "\n",
    "gamma = g**2\n",
    "\n",
    "#################\n",
    "\n",
    "gint =  2#np.sqrt(gamma*delta_t)\n",
    "#gamma = gint**2/delta_t\n",
    "#g = np.sqrt(gamma)\n",
    "\n",
    "# effective interaction strength\n",
    "gint = np.sqrt(gamma*delta_t)\n",
    "\n",
    "# initialize state\n",
    "\n",
    "initial_cavity = fock(N,1)\n",
    "psi0 = tensor(initial_cavity, basis(2,0))\n",
    "n_init = expect(N_cav, psi0)\n",
    "\n",
    "\n",
    "plot_wigner_fock_distribution(initial_cavity, alpha_max=5)"
   ]
  },
  {
   "cell_type": "markdown",
   "metadata": {},
   "source": [
    "## Implements homodyne detection"
   ]
  },
  {
   "cell_type": "markdown",
   "metadata": {},
   "source": [
    "### Homodyne settings"
   ]
  },
  {
   "cell_type": "code",
   "execution_count": null,
   "metadata": {},
   "outputs": [],
   "source": [
    "# homodyne angles\n",
    "nangles = 10 # number of angles\n",
    "thetas = np.linspace(0,np.pi, nangles) # list of all angles\n",
    "\n",
    "# histogram parameters\n",
    "Nbins = 30 # number of histogram bins\n",
    "k = 4  # bin edge limit\n",
    "dx =  2*k/Nbins # bin width"
   ]
  },
  {
   "cell_type": "markdown",
   "metadata": {},
   "source": [
    "### Simulate homodyne"
   ]
  },
  {
   "cell_type": "markdown",
   "metadata": {},
   "source": [
    "## Mode matching function"
   ]
  },
  {
   "cell_type": "code",
   "execution_count": null,
   "metadata": {},
   "outputs": [],
   "source": [
    "# weight measurement results with exponential filter\n",
    "nsteps = np.arange(Nmeas)\n",
    "\n",
    "nsteps = np.linspace(0,Nmeas-1,Nmeas)\n",
    "weights=(gint/np.sqrt(2))*np.exp(-nsteps*(gint**2/2))"
   ]
  },
  {
   "cell_type": "code",
   "execution_count": null,
   "metadata": {},
   "outputs": [],
   "source": [
    "# interaction unitary\n",
    "U_int = H_int(g, delta_t)\n",
    "\n",
    "# seed \n",
    "prng = np.random.RandomState(1234567890)\n",
    "\n",
    "\n",
    "# get measurement histogram for one homodyne angle\n",
    "def get_hist(rotangl, kappa):\n",
    "\n",
    "    L = liouvillian(0*a, [np.sqrt(kappa*delta_t)*a])\n",
    "    op = L.expm()\n",
    "    \n",
    "    ### simulate tomography ###\n",
    "    \n",
    "    qbrotmat = rotateXY(np.pi/2,rotangl) # qb rotation applied prior to qb measurement, defines measured homodyne quadrature\n",
    "    \n",
    "    qbfeedback = rotateX(np.pi) # this pulse will reset the qubit if found in the excited state\n",
    "    quadmeashom = []\n",
    "\n",
    "    for j in range(Ntrajs):\n",
    "        xrnd = prng.rand(Nmeas)\n",
    "    \n",
    "        results = []\n",
    "        psi = ket2dm(psi0)\n",
    "\n",
    "        for i in range(Nmeas):\n",
    "            U = qbrotmat * U_int \n",
    "            psi = U * psi * U.dag()\n",
    "            prob = expect(proj0,psi)          \n",
    "          \n",
    "            # deterministic loss \n",
    "            vec_rho = operator_to_vector(psi)          \n",
    "            psi = vector_to_operator(op*vec_rho)\n",
    "            \n",
    "            if prob > xrnd[i]:\n",
    "                # measured g\n",
    "                results.append(-1)\n",
    "                psi = (proj0 * psi * proj0).unit()\n",
    "            else:\n",
    "                results.append(1)\n",
    "                # measured e\n",
    "                psi = (proj1 * psi * proj1 ).unit()\n",
    "                # go back to g\n",
    "                psi = qbfeedback * psi* qbfeedback.dag()\n",
    "    \n",
    "        quadmeashom.append(np.sum(results*weights))\n",
    "    \n",
    "    \n",
    "    ### create histogram ###    \n",
    "    hist, bins = np.histogram(quadmeashom,Nbins,[-k,k], density=True)\n",
    "    \n",
    "    return hist   "
   ]
  },
  {
   "cell_type": "markdown",
   "metadata": {},
   "source": [
    "# Test cavity decay"
   ]
  },
  {
   "cell_type": "markdown",
   "metadata": {},
   "source": [
    "works"
   ]
  },
  {
   "cell_type": "code",
   "execution_count": null,
   "metadata": {
    "tags": []
   },
   "outputs": [],
   "source": [
    "kappa = 0.02\n",
    "\n",
    "qbrotmat = rotateXY(np.pi/2,0) # qb rotation applied prior to qb measurement, defines measured homodyne quadrature\n",
    "qbfeedback = rotateX(np.pi) # this pulse will reset the qubit if found in the excited state\n",
    "\n",
    "prng = np.random.RandomState(12347890)\n",
    "\n",
    "\n",
    "n_cav_avg = np.zeros(Nmeas)\n",
    "quadmeashom = []\n",
    "for j in range(Ntrajs):\n",
    "        xrnd = prng.rand(Nmeas)\n",
    "    \n",
    "        results = []\n",
    "        psi = ket2dm(psi0)\n",
    "        n_cav = []\n",
    "        \n",
    "        for i in range(Nmeas):\n",
    "            n_cav.append(expect(N_cav, psi).real)\n",
    "            U = qbrotmat * U_int \n",
    "            psi = U * psi * U.dag()\n",
    "            prob = expect(proj0,psi)\n",
    "                       \n",
    "            # deterministic loss \n",
    "            vec_rho = operator_to_vector(psi)          \n",
    "            psi = vector_to_operator(op*vec_rho)\n",
    "\n",
    "            if prob > xrnd[i]:\n",
    "                # measured g\n",
    "                results.append(-1)\n",
    "                psi = (proj0 * psi * proj0).unit()\n",
    "            else:\n",
    "                results.append(1)\n",
    "                # measured e\n",
    "                psi = (proj1 * psi * proj1 ).unit()\n",
    "                # go back to g\n",
    "                psi = qbfeedback * psi* qbfeedback.dag()\n",
    "     \n",
    "        measurement = np.sum(results*weights)\n",
    "        quadmeashom.append(measurement)\n",
    "        n_cav_avg += n_cav"
   ]
  },
  {
   "cell_type": "code",
   "execution_count": null,
   "metadata": {
    "tags": []
   },
   "outputs": [],
   "source": [
    "tlist = nsteps*delta_t\n",
    "\n",
    "gamma_effective = gamma + kappa\n",
    "\n",
    "c_op=[np.sqrt(gamma_effective)*a] # decay rate gamma\n",
    "sol = mesolve(0*a, psi0, tlist, c_ops=c_op, e_ops=[num(N)])\n",
    "\n",
    "#plt.plot(tlist,filter, label='analytic',linewidth=2)              \n",
    "plt.plot(tlist, n_cav, label='last trajectory')\n",
    "plt.plot(tlist, n_cav_avg/Ntrajs, label='average trajectories')\n",
    "plt.plot(tlist, sol.expect[0], '--',label='ME solution')\n",
    "plt.legend();\n",
    "gamma, kappa"
   ]
  },
  {
   "cell_type": "markdown",
   "metadata": {},
   "source": [
    "### only loss"
   ]
  },
  {
   "cell_type": "code",
   "execution_count": 49,
   "metadata": {},
   "outputs": [
    {
     "name": "stdout",
     "output_type": "stream",
     "text": [
      "CPU times: user 2.65 s, sys: 0 ns, total: 2.65 s\n",
      "Wall time: 108 ms\n"
     ]
    },
    {
     "data": {
      "image/png": "[encoded data removed]",
      "text/plain": [
       "<Figure size 640x480 with 1 Axes>"
      ]
     },
     "metadata": {},
     "output_type": "display_data"
    }
   ],
   "source": [
    "%%time\n",
    "\n",
    "n_cav = []\n",
    "psi = ket2dm(psi0) \n",
    "\n",
    "# CAVITY LOSS RATE\n",
    "# T1 = 40 µs => kappa = 1/T1 = 1/40 = 0.025\n",
    "kappa = 0.02\n",
    "\n",
    "L = liouvillian(0*a, [np.sqrt(kappa*delta_t)*a])\n",
    "op = L.expm()\n",
    "\n",
    "for i in range(Nmeas):\n",
    "            n_cav.append(expect(N_cav, psi).real)\n",
    "                       \n",
    "            # deterministic loss \n",
    "            vec_rho = operator_to_vector(psi)          \n",
    "            psi = vector_to_operator(op*vec_rho)\n",
    "            \n",
    "c_op=[np.sqrt(kappa)*a] # decay rate gamma\n",
    "sol = mesolve(0*a, psi0, tlist, c_ops=c_op, e_ops=[N_cav])            \n",
    "       \n",
    "plt.plot(tlist, n_cav, label='last trajectory')    \n",
    "plt.plot(tlist, sol.expect[0], '--',label='ME solution')            \n",
    "\n",
    "plt.legend();"
   ]
  },
  {
   "cell_type": "markdown",
   "metadata": {},
   "source": [
    "## no additional loss"
   ]
  },
  {
   "cell_type": "code",
   "execution_count": 50,
   "metadata": {
    "tags": []
   },
   "outputs": [
    {
     "ename": "KeyboardInterrupt",
     "evalue": "",
     "output_type": "error",
     "traceback": [
      "\u001b[0;31m---------------------------------------------------------------------------\u001b[0m",
      "\u001b[0;31mKeyboardInterrupt\u001b[0m                         Traceback (most recent call last)",
      "Cell \u001b[0;32mIn[50], line 28\u001b[0m\n\u001b[1;32m     26\u001b[0m results\u001b[38;5;241m.\u001b[39mappend(\u001b[38;5;241m1\u001b[39m)\n\u001b[1;32m     27\u001b[0m \u001b[38;5;66;03m# measured e\u001b[39;00m\n\u001b[0;32m---> 28\u001b[0m psi \u001b[38;5;241m=\u001b[39m \u001b[43m(\u001b[49m\u001b[43mproj1\u001b[49m\u001b[43m \u001b[49m\u001b[38;5;241;43m*\u001b[39;49m\u001b[43m \u001b[49m\u001b[43mpsi\u001b[49m\u001b[43m \u001b[49m\u001b[38;5;241;43m*\u001b[39;49m\u001b[43m \u001b[49m\u001b[43mproj1\u001b[49m\u001b[43m \u001b[49m\u001b[43m)\u001b[49m\u001b[38;5;241;43m.\u001b[39;49m\u001b[43munit\u001b[49m\u001b[43m(\u001b[49m\u001b[43m)\u001b[49m\n\u001b[1;32m     29\u001b[0m \u001b[38;5;66;03m# go back to g\u001b[39;00m\n\u001b[1;32m     30\u001b[0m psi \u001b[38;5;241m=\u001b[39m qbfeedback \u001b[38;5;241m*\u001b[39m psi\u001b[38;5;241m*\u001b[39m qbfeedback\u001b[38;5;241m.\u001b[39mdag()\n",
      "File \u001b[0;32m~/.local/lib/python3.11/site-packages/qutip/qobj.py:1321\u001b[0m, in \u001b[0;36mQobj.unit\u001b[0;34m(self, inplace, norm, sparse, tol, maxiter)\u001b[0m\n\u001b[1;32m   1319\u001b[0m     \u001b[38;5;28mself\u001b[39m\u001b[38;5;241m.\u001b[39mdata \u001b[38;5;241m/\u001b[39m\u001b[38;5;241m=\u001b[39m nrm\n\u001b[1;32m   1320\u001b[0m \u001b[38;5;28;01melif\u001b[39;00m \u001b[38;5;129;01mnot\u001b[39;00m inplace:\n\u001b[0;32m-> 1321\u001b[0m     out \u001b[38;5;241m=\u001b[39m \u001b[38;5;28mself\u001b[39m \u001b[38;5;241m/\u001b[39m \u001b[38;5;28;43mself\u001b[39;49m\u001b[38;5;241;43m.\u001b[39;49m\u001b[43mnorm\u001b[49m\u001b[43m(\u001b[49m\u001b[43mnorm\u001b[49m\u001b[38;5;241;43m=\u001b[39;49m\u001b[43mnorm\u001b[49m\u001b[43m,\u001b[49m\u001b[43m \u001b[49m\u001b[43msparse\u001b[49m\u001b[38;5;241;43m=\u001b[39;49m\u001b[43msparse\u001b[49m\u001b[43m,\u001b[49m\n\u001b[1;32m   1322\u001b[0m \u001b[43m                           \u001b[49m\u001b[43mtol\u001b[49m\u001b[38;5;241;43m=\u001b[39;49m\u001b[43mtol\u001b[49m\u001b[43m,\u001b[49m\u001b[43m \u001b[49m\u001b[43mmaxiter\u001b[49m\u001b[38;5;241;43m=\u001b[39;49m\u001b[43mmaxiter\u001b[49m\u001b[43m)\u001b[49m\n\u001b[1;32m   1323\u001b[0m     \u001b[38;5;28;01mif\u001b[39;00m settings\u001b[38;5;241m.\u001b[39mauto_tidyup:\n\u001b[1;32m   1324\u001b[0m         \u001b[38;5;28;01mreturn\u001b[39;00m out\u001b[38;5;241m.\u001b[39mtidyup()\n",
      "File \u001b[0;32m~/.local/lib/python3.11/site-packages/qutip/qobj.py:998\u001b[0m, in \u001b[0;36mQobj.norm\u001b[0;34m(self, norm, sparse, tol, maxiter)\u001b[0m\n\u001b[1;32m    996\u001b[0m \u001b[38;5;28;01mif\u001b[39;00m norm \u001b[38;5;129;01mis\u001b[39;00m \u001b[38;5;28;01mNone\u001b[39;00m \u001b[38;5;129;01mor\u001b[39;00m norm \u001b[38;5;241m==\u001b[39m \u001b[38;5;124m'\u001b[39m\u001b[38;5;124mtr\u001b[39m\u001b[38;5;124m'\u001b[39m:\n\u001b[1;32m    997\u001b[0m     _op \u001b[38;5;241m=\u001b[39m \u001b[38;5;28mself\u001b[39m\u001b[38;5;241m.\u001b[39mdata \u001b[38;5;241m*\u001b[39m zcsr_adjoint(\u001b[38;5;28mself\u001b[39m\u001b[38;5;241m.\u001b[39mdata)\n\u001b[0;32m--> 998\u001b[0m     vals \u001b[38;5;241m=\u001b[39m \u001b[43msp_eigs\u001b[49m\u001b[43m(\u001b[49m\u001b[43m_op\u001b[49m\u001b[43m,\u001b[49m\u001b[43m \u001b[49m\u001b[38;5;28;43;01mTrue\u001b[39;49;00m\u001b[43m,\u001b[49m\u001b[43m \u001b[49m\u001b[43mvecs\u001b[49m\u001b[38;5;241;43m=\u001b[39;49m\u001b[38;5;28;43;01mFalse\u001b[39;49;00m\u001b[43m,\u001b[49m\n\u001b[1;32m    999\u001b[0m \u001b[43m                   \u001b[49m\u001b[43msparse\u001b[49m\u001b[38;5;241;43m=\u001b[39;49m\u001b[43msparse\u001b[49m\u001b[43m,\u001b[49m\u001b[43m \u001b[49m\u001b[43mtol\u001b[49m\u001b[38;5;241;43m=\u001b[39;49m\u001b[43mtol\u001b[49m\u001b[43m,\u001b[49m\u001b[43m \u001b[49m\u001b[43mmaxiter\u001b[49m\u001b[38;5;241;43m=\u001b[39;49m\u001b[43mmaxiter\u001b[49m\u001b[43m)\u001b[49m\n\u001b[1;32m   1000\u001b[0m     \u001b[38;5;28;01mreturn\u001b[39;00m np\u001b[38;5;241m.\u001b[39msum(np\u001b[38;5;241m.\u001b[39msqrt(np\u001b[38;5;241m.\u001b[39mabs(vals)))\n\u001b[1;32m   1001\u001b[0m \u001b[38;5;28;01melif\u001b[39;00m norm \u001b[38;5;241m==\u001b[39m \u001b[38;5;124m'\u001b[39m\u001b[38;5;124mfro\u001b[39m\u001b[38;5;124m'\u001b[39m:\n",
      "File \u001b[0;32m~/.local/lib/python3.11/site-packages/qutip/sparse.py:377\u001b[0m, in \u001b[0;36msp_eigs\u001b[0;34m(data, isherm, vecs, sparse, sort, eigvals, tol, maxiter)\u001b[0m\n\u001b[1;32m    374\u001b[0m     evals, evecs \u001b[38;5;241m=\u001b[39m _sp_eigs(data, isherm, vecs, N, eigvals, num_large,\n\u001b[1;32m    375\u001b[0m                             num_small, tol, maxiter)\n\u001b[1;32m    376\u001b[0m \u001b[38;5;28;01melse\u001b[39;00m:\n\u001b[0;32m--> 377\u001b[0m     evals, evecs \u001b[38;5;241m=\u001b[39m \u001b[43m_dense_eigs\u001b[49m\u001b[43m(\u001b[49m\u001b[43mdata\u001b[49m\u001b[38;5;241;43m.\u001b[39;49m\u001b[43mtoarray\u001b[49m\u001b[43m(\u001b[49m\u001b[43m)\u001b[49m\u001b[43m,\u001b[49m\u001b[43m \u001b[49m\u001b[43misherm\u001b[49m\u001b[43m,\u001b[49m\u001b[43m \u001b[49m\u001b[43mvecs\u001b[49m\u001b[43m,\u001b[49m\u001b[43m \u001b[49m\u001b[43mN\u001b[49m\u001b[43m,\u001b[49m\u001b[43m \u001b[49m\u001b[43meigvals\u001b[49m\u001b[43m,\u001b[49m\n\u001b[1;32m    378\u001b[0m \u001b[43m                               \u001b[49m\u001b[43mnum_large\u001b[49m\u001b[43m,\u001b[49m\u001b[43m \u001b[49m\u001b[43mnum_small\u001b[49m\u001b[43m)\u001b[49m\n\u001b[1;32m    380\u001b[0m \u001b[38;5;28;01mif\u001b[39;00m sort \u001b[38;5;241m==\u001b[39m \u001b[38;5;124m'\u001b[39m\u001b[38;5;124mhigh\u001b[39m\u001b[38;5;124m'\u001b[39m:  \u001b[38;5;66;03m# flip arrays to largest values first\u001b[39;00m\n\u001b[1;32m    381\u001b[0m     \u001b[38;5;28;01mif\u001b[39;00m vecs:\n",
      "File \u001b[0;32m~/.local/lib/python3.11/site-packages/qutip/sparse.py:189\u001b[0m, in \u001b[0;36m_dense_eigs\u001b[0;34m(data, isherm, vecs, N, eigvals, num_large, num_small)\u001b[0m\n\u001b[1;32m    187\u001b[0m \u001b[38;5;28;01mif\u001b[39;00m isherm:\n\u001b[1;32m    188\u001b[0m     \u001b[38;5;28;01mif\u001b[39;00m eigvals \u001b[38;5;241m==\u001b[39m \u001b[38;5;241m0\u001b[39m:\n\u001b[0;32m--> 189\u001b[0m         evals \u001b[38;5;241m=\u001b[39m \u001b[43meigvalsh\u001b[49m\u001b[43m(\u001b[49m\u001b[43mdata\u001b[49m\u001b[43m)\u001b[49m\n\u001b[1;32m    190\u001b[0m     \u001b[38;5;28;01melse\u001b[39;00m:\n\u001b[1;32m    191\u001b[0m         \u001b[38;5;28;01mif\u001b[39;00m num_small \u001b[38;5;241m>\u001b[39m \u001b[38;5;241m0\u001b[39m:\n",
      "File \u001b[0;32m/usr/lib/python3.11/site-packages/scipy/linalg/_decomp.py:1023\u001b[0m, in \u001b[0;36meigvalsh\u001b[0;34m(a, b, lower, overwrite_a, overwrite_b, turbo, eigvals, type, check_finite, subset_by_index, subset_by_value, driver)\u001b[0m\n\u001b[1;32m    901\u001b[0m \u001b[38;5;28;01mdef\u001b[39;00m \u001b[38;5;21meigvalsh\u001b[39m(a, b\u001b[38;5;241m=\u001b[39m\u001b[38;5;28;01mNone\u001b[39;00m, lower\u001b[38;5;241m=\u001b[39m\u001b[38;5;28;01mTrue\u001b[39;00m, overwrite_a\u001b[38;5;241m=\u001b[39m\u001b[38;5;28;01mFalse\u001b[39;00m,\n\u001b[1;32m    902\u001b[0m              overwrite_b\u001b[38;5;241m=\u001b[39m\u001b[38;5;28;01mFalse\u001b[39;00m, turbo\u001b[38;5;241m=\u001b[39m\u001b[38;5;28;01mFalse\u001b[39;00m, eigvals\u001b[38;5;241m=\u001b[39m\u001b[38;5;28;01mNone\u001b[39;00m, \u001b[38;5;28mtype\u001b[39m\u001b[38;5;241m=\u001b[39m\u001b[38;5;241m1\u001b[39m,\n\u001b[1;32m    903\u001b[0m              check_finite\u001b[38;5;241m=\u001b[39m\u001b[38;5;28;01mTrue\u001b[39;00m, subset_by_index\u001b[38;5;241m=\u001b[39m\u001b[38;5;28;01mNone\u001b[39;00m, subset_by_value\u001b[38;5;241m=\u001b[39m\u001b[38;5;28;01mNone\u001b[39;00m,\n\u001b[1;32m    904\u001b[0m              driver\u001b[38;5;241m=\u001b[39m\u001b[38;5;28;01mNone\u001b[39;00m):\n\u001b[1;32m    905\u001b[0m \u001b[38;5;250m    \u001b[39m\u001b[38;5;124;03m\"\"\"\u001b[39;00m\n\u001b[1;32m    906\u001b[0m \u001b[38;5;124;03m    Solves a standard or generalized eigenvalue problem for a complex\u001b[39;00m\n\u001b[1;32m    907\u001b[0m \u001b[38;5;124;03m    Hermitian or real symmetric matrix.\u001b[39;00m\n\u001b[0;32m   (...)\u001b[0m\n\u001b[1;32m   1021\u001b[0m \n\u001b[1;32m   1022\u001b[0m \u001b[38;5;124;03m    \"\"\"\u001b[39;00m\n\u001b[0;32m-> 1023\u001b[0m     \u001b[38;5;28;01mreturn\u001b[39;00m \u001b[43meigh\u001b[49m\u001b[43m(\u001b[49m\u001b[43ma\u001b[49m\u001b[43m,\u001b[49m\u001b[43m \u001b[49m\u001b[43mb\u001b[49m\u001b[38;5;241;43m=\u001b[39;49m\u001b[43mb\u001b[49m\u001b[43m,\u001b[49m\u001b[43m \u001b[49m\u001b[43mlower\u001b[49m\u001b[38;5;241;43m=\u001b[39;49m\u001b[43mlower\u001b[49m\u001b[43m,\u001b[49m\u001b[43m \u001b[49m\u001b[43meigvals_only\u001b[49m\u001b[38;5;241;43m=\u001b[39;49m\u001b[38;5;28;43;01mTrue\u001b[39;49;00m\u001b[43m,\u001b[49m\n\u001b[1;32m   1024\u001b[0m \u001b[43m                \u001b[49m\u001b[43moverwrite_a\u001b[49m\u001b[38;5;241;43m=\u001b[39;49m\u001b[43moverwrite_a\u001b[49m\u001b[43m,\u001b[49m\u001b[43m \u001b[49m\u001b[43moverwrite_b\u001b[49m\u001b[38;5;241;43m=\u001b[39;49m\u001b[43moverwrite_b\u001b[49m\u001b[43m,\u001b[49m\n\u001b[1;32m   1025\u001b[0m \u001b[43m                \u001b[49m\u001b[43mturbo\u001b[49m\u001b[38;5;241;43m=\u001b[39;49m\u001b[43mturbo\u001b[49m\u001b[43m,\u001b[49m\u001b[43m \u001b[49m\u001b[43meigvals\u001b[49m\u001b[38;5;241;43m=\u001b[39;49m\u001b[43meigvals\u001b[49m\u001b[43m,\u001b[49m\u001b[43m \u001b[49m\u001b[38;5;28;43mtype\u001b[39;49m\u001b[38;5;241;43m=\u001b[39;49m\u001b[38;5;28;43mtype\u001b[39;49m\u001b[43m,\u001b[49m\n\u001b[1;32m   1026\u001b[0m \u001b[43m                \u001b[49m\u001b[43mcheck_finite\u001b[49m\u001b[38;5;241;43m=\u001b[39;49m\u001b[43mcheck_finite\u001b[49m\u001b[43m,\u001b[49m\u001b[43m \u001b[49m\u001b[43msubset_by_index\u001b[49m\u001b[38;5;241;43m=\u001b[39;49m\u001b[43msubset_by_index\u001b[49m\u001b[43m,\u001b[49m\n\u001b[1;32m   1027\u001b[0m \u001b[43m                \u001b[49m\u001b[43msubset_by_value\u001b[49m\u001b[38;5;241;43m=\u001b[39;49m\u001b[43msubset_by_value\u001b[49m\u001b[43m,\u001b[49m\u001b[43m \u001b[49m\u001b[43mdriver\u001b[49m\u001b[38;5;241;43m=\u001b[39;49m\u001b[43mdriver\u001b[49m\u001b[43m)\u001b[49m\n",
      "File \u001b[0;32m/usr/lib/python3.11/site-packages/scipy/linalg/_decomp.py:561\u001b[0m, in \u001b[0;36meigh\u001b[0;34m(a, b, lower, eigvals_only, overwrite_a, overwrite_b, turbo, eigvals, type, check_finite, subset_by_index, subset_by_value, driver)\u001b[0m\n\u001b[1;32m    558\u001b[0m         lwork_args \u001b[38;5;241m=\u001b[39m {\u001b[38;5;124m'\u001b[39m\u001b[38;5;124mlwork\u001b[39m\u001b[38;5;124m'\u001b[39m: lw}\n\u001b[1;32m    560\u001b[0m     drv_args\u001b[38;5;241m.\u001b[39mupdate({\u001b[38;5;124m'\u001b[39m\u001b[38;5;124mlower\u001b[39m\u001b[38;5;124m'\u001b[39m: lower, \u001b[38;5;124m'\u001b[39m\u001b[38;5;124mcompute_v\u001b[39m\u001b[38;5;124m'\u001b[39m: \u001b[38;5;241m0\u001b[39m \u001b[38;5;28;01mif\u001b[39;00m _job \u001b[38;5;241m==\u001b[39m \u001b[38;5;124m\"\u001b[39m\u001b[38;5;124mN\u001b[39m\u001b[38;5;124m\"\u001b[39m \u001b[38;5;28;01melse\u001b[39;00m \u001b[38;5;241m1\u001b[39m})\n\u001b[0;32m--> 561\u001b[0m     w, v, \u001b[38;5;241m*\u001b[39mother_args, info \u001b[38;5;241m=\u001b[39m \u001b[43mdrv\u001b[49m\u001b[43m(\u001b[49m\u001b[43ma\u001b[49m\u001b[38;5;241;43m=\u001b[39;49m\u001b[43ma1\u001b[49m\u001b[43m,\u001b[49m\u001b[43m \u001b[49m\u001b[38;5;241;43m*\u001b[39;49m\u001b[38;5;241;43m*\u001b[39;49m\u001b[43mdrv_args\u001b[49m\u001b[43m,\u001b[49m\u001b[43m \u001b[49m\u001b[38;5;241;43m*\u001b[39;49m\u001b[38;5;241;43m*\u001b[39;49m\u001b[43mlwork_args\u001b[49m\u001b[43m)\u001b[49m\n\u001b[1;32m    563\u001b[0m \u001b[38;5;28;01melse\u001b[39;00m:  \u001b[38;5;66;03m# Generalized problem\u001b[39;00m\n\u001b[1;32m    564\u001b[0m     \u001b[38;5;66;03m# 'gvd' doesn't have lwork query\u001b[39;00m\n\u001b[1;32m    565\u001b[0m     \u001b[38;5;28;01mif\u001b[39;00m driver \u001b[38;5;241m==\u001b[39m \u001b[38;5;124m\"\u001b[39m\u001b[38;5;124mgvd\u001b[39m\u001b[38;5;124m\"\u001b[39m:\n",
      "\u001b[0;31mKeyboardInterrupt\u001b[0m: "
     ]
    }
   ],
   "source": [
    "U_int = H_int(g, delta_t)\n",
    "\n",
    "prng = np.random.RandomState(187890)\n",
    "\n",
    "n_cav_avg = np.zeros(Nmeas)\n",
    "quadmeashom = []\n",
    "for j in range(Ntrajs):\n",
    "        xrnd = prng.rand(Nmeas)\n",
    "    \n",
    "        results = []\n",
    "        psi = ket2dm(psi0)\n",
    "        n_cav = []\n",
    "        \n",
    "        for i in range(Nmeas):\n",
    "            n_cav.append(expect(N_cav, psi).real)\n",
    "            U = qbrotmat * U_int \n",
    "            #U = U_int\n",
    "            psi = U * psi * U.dag()\n",
    "            prob = expect(proj0,psi)\n",
    "                       \n",
    "            if prob > xrnd[i]:\n",
    "                # measured g\n",
    "                results.append(-1)\n",
    "                psi = (proj0 * psi * proj0).unit()\n",
    "            else:\n",
    "                results.append(1)\n",
    "                # measured e\n",
    "                psi = (proj1 * psi * proj1 ).unit()\n",
    "                # go back to g\n",
    "                psi = qbfeedback * psi* qbfeedback.dag()\n",
    "     \n",
    "        measurement = np.sum(results*weights)\n",
    "        quadmeashom.append(measurement)\n",
    "        n_cav_avg += n_cav"
   ]
  },
  {
   "cell_type": "code",
   "execution_count": null,
   "metadata": {
    "tags": []
   },
   "outputs": [],
   "source": [
    "tlist = nsteps*delta_t\n",
    "\n",
    "c_op=[np.sqrt(gamma)*a] # decay rate gamma\n",
    "sol = mesolve(0*a, psi0, tlist, c_ops=c_op, e_ops=[N_cav])\n",
    "            "
   ]
  },
  {
   "cell_type": "code",
   "execution_count": null,
   "metadata": {
    "tags": []
   },
   "outputs": [],
   "source": [
    "#, dashes=(5, 4)\n",
    "\n",
    "plt.plot(tlist, sol.expect[0],'k',linewidth=6, label='ME solution')\n",
    "plt.plot(tlist, np.exp(-gamma*tlist),'C1',linestyle=':', dash_capstyle = 'round', linewidth=3, label='$\\exp(-\\gamma t_n)$')\n",
    "plt.plot(tlist, n_cav_avg/Ntrajs,'dodgerblue', linestyle='--', linewidth=4, label='Average')\n",
    "plt.plot(tlist, n_cav, 'forestgreen', label='One trajectory')\n",
    "\n",
    "plt.xlabel(r'$t_n$')\n",
    "plt.ylabel(r'$\\bar n$')\n",
    "\n",
    "plt.legend()\n",
    "plt.tight_layout()\n",
    "#plt.savefig('decay_trajs.pdf', transparent=True)"
   ]
  },
  {
   "cell_type": "markdown",
   "metadata": {},
   "source": [
    "# Tomography"
   ]
  },
  {
   "cell_type": "code",
   "execution_count": null,
   "metadata": {},
   "outputs": [],
   "source": [
    "kappa = 0.02\n",
    "eta = gamma/(gamma + kappa) # measurement efficiency\n",
    "eta"
   ]
  },
  {
   "cell_type": "code",
   "execution_count": null,
   "metadata": {},
   "outputs": [],
   "source": [
    "# get histograms for all angles in parallell\n",
    "# NOTE: multiprocessing backend can give duplicate measurement results. loky should be ok though\n",
    "# https://joblib.readthedocs.io/en/latest/auto_examples/parallel_random_state.html\n",
    "\n",
    "b_all = Parallel(n_jobs=16, verbose=5, backend=\"loky\")(delayed(get_hist)(rotangle,kappa) for rotangle in thetas)"
   ]
  },
  {
   "cell_type": "markdown",
   "metadata": {},
   "source": [
    "### Prepare data and operators"
   ]
  },
  {
   "cell_type": "code",
   "execution_count": null,
   "metadata": {
    "tags": []
   },
   "outputs": [],
   "source": [
    "#######\n",
    "N_large = 25 # need some additional dimensions to properly construct the noise-compensated operators\n",
    "\n",
    "# Load homodyne data into vector $\\vec b$\n",
    "b = np.concatenate([array for array in b_all])\n",
    "\n",
    "### Define the harmonic oscillator wavefunction\n",
    "#To create homodyne POVM operators.\n",
    "\n",
    "def wavefunction(x,n):\n",
    "    const = 1/(np.sqrt(2**n * factorial(n)) * (np.pi)**0.25 )\n",
    "    rest = const* np.exp(-x**2/2)\n",
    "    return float(rest*eval_hermite(n,x))\n",
    "\n",
    "### Construct measurement operators\n",
    "def get_Pis(theta, i):\n",
    "    Pi = np.zeros((N_large,N_large),dtype=np.complex128)\n",
    "    for m in range(N_large):\n",
    "        wave_m = lambda x : wavefunction(x, m)\n",
    "        for n in range(N_large):\n",
    "            wave_n = lambda x: wavefunction(x, n)            \n",
    "            func = lambda x: wave_m(x)*wave_n(x)\n",
    "            Pi[n,m] = quad(func, -k + i*dx, -k + (i+1)*dx)[0]*np.exp(-1j*(n-m)*theta)\n",
    "            \n",
    "    return Pi*2 #\n",
    "\n",
    "Pis = Parallel(n_jobs=16, verbose=5, backend=\"multiprocessing\")(delayed(get_Pis)(theta,i) for theta in thetas for i in range(Nbins))\n",
    "\n",
    "#The list `basis_dms` contains all $\\Omega_k$\n",
    "# funtions to construct vectors\n",
    "def get_basis_vectors(N_large):\n",
    "    # construct vectors\n",
    "    basis_vectors = []\n",
    "    for i in range(N_large):\n",
    "        vector = fock(N_large, i)\n",
    "        basis_vectors.append(np.real(vector.full()))\n",
    "    \n",
    "    return basis_vectors\n",
    "        \n",
    "def get_basis_dms(N_large, basis_vectors):    \n",
    "    # construct operators\n",
    "    basis_dms = []\n",
    "    for vector1 in basis_vectors:\n",
    "        for vector2 in basis_vectors:\n",
    "            dm = np.outer(vector1, vector2)\n",
    "            basis_dms.append(dm)\n",
    "            \n",
    "    return basis_dms\n",
    "\n",
    "basis_vectors  = get_basis_vectors(N_large) # needed for the adjusted operators\n",
    "basis_dms = get_basis_dms(N_large, basis_vectors)\n",
    "        \n",
    "### Construct noise adjusted measurement operators\n",
    "def B(n,k, eta):\n",
    "    return np.sqrt(comb(n+k,n) * eta**n * (1-eta)**k)\n",
    "\n",
    "def get_adjusted_op(i,j):\n",
    "        op = np.zeros((N_large,N_large), dtype=np.complex64)\n",
    "        for n in range(N_large):\n",
    "            for m in range(N_large):\n",
    "                for k in range(N_large-max(m,n)):\n",
    "                    op += B(m,k,eta)*B(n,k,eta)*Pis[i*Nbins + j][m,n] * np.outer(basis_vectors[n+k], basis_vectors[m+k])#\n",
    "        return op\n",
    "\n",
    "op_list = Parallel(n_jobs=-1, verbose=5, backend=\"multiprocessing\")(delayed(get_adjusted_op)(i,j) for i in range(nangles) for j in range(Nbins))        \n",
    "\n",
    "### Construct the matrix A in $A\\vec\\rho=\\vec b$\n",
    "#From `Pis` and `basis_dms`.\n",
    "\n",
    "op_list_cut = [op[:N,:N] for op in op_list]\n",
    "\n",
    "basis_vectors_cut = get_basis_vectors(N)\n",
    "basis_dms_cut = get_basis_dms(N, basis_vectors_cut)\n",
    "\n",
    "def func(index, a):\n",
    "    return np.trace(op_list[index[0]][:N,:N] @ basis_dms_cut[index[1]])\n",
    "\n",
    "A = np.zeros((len(Pis), N*N), dtype=np.complex64)\n",
    "A_p = Parallel(n_jobs=16, verbose=5, backend=\"multiprocessing\")(delayed(func)(idx,a) for idx, a in np.ndenumerate(A))\n",
    "\n",
    "A = np.reshape(A_p, (len(Pis), N*N))"
   ]
  },
  {
   "cell_type": "markdown",
   "metadata": {},
   "source": [
    "### Convex optimization"
   ]
  },
  {
   "cell_type": "code",
   "execution_count": null,
   "metadata": {},
   "outputs": [],
   "source": [
    "# Define the unknown state as a $N\\times N$ Hermitian matrix\n",
    "\n",
    "X = cp.Variable((N,N), hermitian=True)\n",
    "\n",
    "#Set the cost function to $\\|A\\vec\\rho - \\vec b\\|_2$ where the vectorized state is given by `cp.vec(X)`.\n",
    "\n",
    "cost = cp.norm(A @ cp.vec(X) - b, 2) \n",
    "\n",
    "#Set the trace constraint and positive-semidefinite constraint, respectively.\n",
    "constraints = [cp.trace(X) == 1, X >> 0 ]\n",
    "\n",
    "#Set up and solve the problem!\n",
    "\n",
    "prob = cp.Problem(cp.Minimize(cost), constraints)\n",
    "prob.solve(verbose=False)\n",
    "\n",
    "# Assign the optimized state X to a Qobj.\n",
    "reconstructed_rho = Qobj(X.value)\n",
    "\n",
    "### Visualize results\n",
    "\n",
    "#Plot the reconstructed state \n",
    "alpha_max = 5\n",
    "fig, ax = plot_wigner_fock_distribution(reconstructed_rho, alpha_max=5)\n",
    "ax[0].set_title(\"Reconstructed state\")\n",
    "\n",
    "f=fidelity(reconstructed_rho, initial_cavity)**2\n",
    "ax[1].set_title(\"Fidelity %.3f\"%(f));"
   ]
  },
  {
   "cell_type": "code",
   "execution_count": null,
   "metadata": {},
   "outputs": [],
   "source": [
    "fig, ax = plot_wigner_fock_distribution(initial_cavity, alpha_max=5);\n",
    "ax[0].set_title(\"True state\");"
   ]
  },
  {
   "cell_type": "code",
   "execution_count": null,
   "metadata": {},
   "outputs": [],
   "source": []
  },
  {
   "cell_type": "code",
   "execution_count": null,
   "metadata": {},
   "outputs": [],
   "source": []
  }
 ],
 "metadata": {
  "kernelspec": {
   "display_name": "Python 3 (ipykernel)",
   "language": "python",
   "name": "python3"
  },
  "language_info": {
   "codemirror_mode": {
    "name": "ipython",
    "version": 3
   },
   "file_extension": ".py",
   "mimetype": "text/x-python",
   "name": "python",
   "nbconvert_exporter": "python",
   "pygments_lexer": "ipython3",
   "version": "3.11.3"
  },
  "widgets": {
   "application/vnd.jupyter.widget-state+json": {
    "state": {},
    "version_major": 2,
    "version_minor": 0
   }
  }
 },
 "nbformat": 4,
 "nbformat_minor": 4
}
