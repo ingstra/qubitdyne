{
 "cells": [
  {
   "cell_type": "code",
   "execution_count": 1,
   "id": "a0e16722-1b8c-4fe5-bb84-04ce710d940b",
   "metadata": {},
   "outputs": [],
   "source": [
    "# %%\n",
    "'''\n",
    " # @ Author: Baptiste Royer\n",
    " # @ Create Time: 2022-05-25 17:40:11\n",
    " # @ Modified by: Baptiste Royer\n",
    " # @ Modified time: 2023-02-28 15:00:17\n",
    " # @ Description:\n",
    " '''\n",
    "\n",
    "# %load_ext autoreload\n",
    "# %autoreload 1\n",
    "from qutip import *\n",
    "import numpy as np\n",
    "import matplotlib\n",
    "import matplotlib.pyplot as plt\n",
    "from matplotlib import cm\n",
    "import seaborn as sns\n",
    "from tqdm import tqdm\n",
    "from copy import copy\n",
    "from scipy.optimize import minimize\n",
    "from scipy import stats\n",
    "π = np.pi\n",
    "\n",
    "font = {'family' : 'Times New Roman',\n",
    "        'weight' : 'normal',\n",
    "        'size'   : 16}\n",
    "matplotlib.rc('font', **font)"
   ]
  },
  {
   "cell_type": "markdown",
   "id": "9f5e4824-12e9-41a5-99f9-38bce023c169",
   "metadata": {},
   "source": [
    "### Define  operators"
   ]
  },
  {
   "cell_type": "code",
   "execution_count": 2,
   "id": "f546749e-74d0-44e2-b54b-36d527c80f2b",
   "metadata": {},
   "outputs": [],
   "source": [
    "#%%% cavity operators\n",
    "Ncav = 100\n",
    "a = destroy(Ncav)\n",
    "ad = dag(a)\n",
    "n = ad*a\n",
    "idCav = qeye(Ncav)\n",
    "\n",
    "#%%% qubit operators\n",
    "id2 = qeye(2)\n",
    "sx = sigmax()\n",
    "sy = sigmay()\n",
    "sz = sigmaz()\n",
    "sm = destroy(2)\n",
    "sp = dag(sm)\n",
    "Pg = (id2 + sz)/2\n",
    "Pe = (id2 - sz)/2\n",
    "pState = (basis(2) + basis(2,1)).unit()"
   ]
  },
  {
   "cell_type": "code",
   "execution_count": 3,
   "id": "4034a785-503d-467a-a535-96dc02a6ad2a",
   "metadata": {},
   "outputs": [],
   "source": [
    "# Symmetric controlled diplacements\n",
    "def CD(alpha):\n",
    "    return tensor(Pg,displace(Ncav,alpha/2)) + tensor(Pe,displace(Ncav,-alpha/2))\n",
    "\n",
    "# Qubit rotation around Z\n",
    "def Rz(phi):\n",
    "    return tensor((-1j/2*phi*sz).expm(),idCav)\n",
    "\n",
    "# Qubit rotation around Y (instead of Hadamard)\n",
    "def Ry(theta):\n",
    "    return tensor((-1j/2*theta*sy).expm(),idCav)\n",
    "\n",
    "Rypi2 = Ry(-π/2) # Y -pi/2 rotation"
   ]
  },
  {
   "cell_type": "markdown",
   "id": "87b7f896-5ddb-426d-8341-653f3f957144",
   "metadata": {},
   "source": [
    "### Series of functions useful for computing the optimal phases"
   ]
  },
  {
   "cell_type": "code",
   "execution_count": 4,
   "id": "d8ba309d-40b4-4347-ad2e-5ad91cd79f11",
   "metadata": {},
   "outputs": [],
   "source": [
    "def powerset(s):\n",
    "    x = len(s)\n",
    "    masks = [1 << i for i in range(x)]\n",
    "    for i in range(1,1 << x):\n",
    "        yield [ss for mask, ss in zip(masks, s) if i & mask]\n",
    "\n",
    "def oddPowerset(s):\n",
    "    res = []\n",
    "    for x in powerset(s):\n",
    "        if len(x)%2==1:\n",
    "            res.append(x)\n",
    "    return res\n",
    "    # return np.where([x if len(x)%2==1 else None for x in powerset(s)] != None)\n",
    "\n",
    "def sum1(le):\n",
    "    res = []\n",
    "    for x in range(1 << le):\n",
    "        binx = np.binary_repr(x,width=le)\n",
    "        if (sum([eval(i) for i in list(binx)]))==(le+1)/2:\n",
    "            res.append([eval(i) for i in list(binx)])\n",
    "    return res\n",
    "\n",
    "# Function to compute the optimal qubit rotation phae (measurement angle)\n",
    "def computePhase(phaseArr,resArray):\n",
    "    if len(phaseArr)==0:\n",
    "        return 0\n",
    "    effPhaseArr = [phaseArr[i] + np.pi*resArray[i] for i in range(len(phaseArr))]\n",
    "\n",
    "    oddPS = oddPowerset(np.arange(len(effPhaseArr)+1))\n",
    "\n",
    "    # Compute (minus) sharpness, which needs to be maximized (below we use the scipy minimize function, hence the minus sign).\n",
    "    def sharpness(phi):\n",
    "        effPhaseArr1 = copy(effPhaseArr)\n",
    "        effPhaseArr1.append(phi)\n",
    "        effPhaseArr2 = copy(effPhaseArr)\n",
    "        effPhaseArr2.append(phi+np.pi)\n",
    "        number1 = 0\n",
    "        number2 = 0\n",
    "        for ops in oddPS:\n",
    "            for es in sum1(len(ops)):\n",
    "                phase1 = 0\n",
    "                phase2 = 0\n",
    "                for i in range(len(ops)):\n",
    "                    phase1 += (-1)**(es[i])*effPhaseArr1[ops[i]]\n",
    "                    phase2 += (-1)**(es[i])*effPhaseArr2[ops[i]]\n",
    "                number1 += np.exp(1j*phase1)/2**len(ops)\n",
    "                number2 += np.exp(1j*phase2)/2**len(ops)\n",
    "        return -(np.abs(number1) + np.abs(number2))\n",
    "    \n",
    "    res = minimize(sharpness, [0.1])\n",
    "    return res.x[0]\n",
    "\n",
    "# Compute the best estimate of the phase with a set of measurement results and measurement angles\n",
    "def phaseEstimate(phaseArr,resArray):\n",
    "\n",
    "    effPhaseArr = [phaseArr[i] + np.pi*resArray[i] for i in range(len(phaseArr))]\n",
    "\n",
    "    oddPS = oddPowerset(np.arange(len(effPhaseArr)))\n",
    "\n",
    "    number = 0\n",
    "    for ops in oddPS:\n",
    "        for es in sum1(len(ops)):\n",
    "            phase = 0\n",
    "            for i in range(len(ops)):\n",
    "                phase += (-1)**(es[i])*effPhaseArr[ops[i]]\n",
    "            number += np.exp(1j*phase)/2**len(ops)\n",
    "    return np.angle(number)"
   ]
  },
  {
   "cell_type": "markdown",
   "id": "61798492-b6b3-4283-8330-6fd7b36cd5f3",
   "metadata": {},
   "source": [
    "### Single trajectory test"
   ]
  },
  {
   "cell_type": "markdown",
   "id": "7bf37ec5-e40d-43b3-8a9b-a7aacb0c9db8",
   "metadata": {},
   "source": [
    "Test with vacuum state"
   ]
  },
  {
   "cell_type": "code",
   "execution_count": 5,
   "id": "a5921563-8a3b-40d6-8650-c7a4578c99e7",
   "metadata": {},
   "outputs": [],
   "source": [
    "psi = basis(Ncav)   "
   ]
  },
  {
   "cell_type": "code",
   "execution_count": 6,
   "id": "e1b495fb-459c-45fe-8055-5ad5bc1ce7be",
   "metadata": {},
   "outputs": [
    {
     "name": "stdout",
     "output_type": "stream",
     "text": [
      "Measuring limit =  6.283185307179586\n",
      "[0, 1.5708022540641857, -0.7853861510474393, -1.3405275115060777, -0.9885680593116818, -1.2999878229323936, -1.076797710508406, -1.2973150505843976]\n",
      "[0, 0, 0, 1, 0, 1, 0, 0]\n",
      "-0.1954648486080892\n"
     ]
    },
    {
     "data": {
      "image/png": "[encoded data removed]",
      "text/plain": [
       "<Figure size 600x600 with 1 Axes>"
      ]
     },
     "metadata": {},
     "output_type": "display_data"
    }
   ],
   "source": [
    "epsilon = 0.5\n",
    "CDespilon = CD(epsilon)\n",
    "Nmeas = 8 # few measurements because the optimization is too slow otherwise. \n",
    "\n",
    "measRecord = []\n",
    "phaseArray = []\n",
    "print(\"Measuring limit = \", np.pi/epsilon)\n",
    "\n",
    "for i in range(Nmeas):\n",
    "    psic = tensor(pState,psi)       \n",
    "    psic = CDespilon*psic\n",
    "    phiQb = computePhase(phaseArray,measRecord)         # Compute the optimal measurement angle for the current step\n",
    "    psic = Rz(phiQb)*psic                               # Apply rotation\n",
    "    psic = Rypi2*psic\n",
    "    probg = expect(tensor(Pg,idCav),psic)\n",
    "    if np.random.rand() < probg:\n",
    "        meas = 0\n",
    "        psi = tensor(basis(2).dag(),idCav)*psic\n",
    "        psi = psi.unit()\n",
    "    else:\n",
    "        meas = 1\n",
    "        psi = tensor(basis(2,1).dag(),idCav)*psic\n",
    "        psi = psi.unit()\n",
    "\n",
    "    phaseArray.append(phiQb)\n",
    "    measRecord.append(meas)\n",
    "\n",
    "print(phaseArray)\n",
    "print(measRecord)\n",
    "print(phaseEstimate(phaseArray,measRecord))\n",
    "\n",
    "# %%\n",
    "estimate = np.sqrt(2)/epsilon*phaseEstimate(phaseArray,measRecord)\n",
    "plot_wigner(psi)\n",
    "plt.plot([-7.5,7.5],np.full(2,estimate/2),'--',c='orange');"
   ]
  },
  {
   "cell_type": "markdown",
   "id": "1d98c2e5-8ce3-44f8-a3c4-ce67e026faa6",
   "metadata": {},
   "source": [
    "### Multiple trajectories"
   ]
  },
  {
   "cell_type": "code",
   "execution_count": 7,
   "id": "83ce9e72-fd8a-4c0b-b367-1995191d8880",
   "metadata": {},
   "outputs": [
    {
     "name": "stdout",
     "output_type": "stream",
     "text": [
      "Measuring limit =  6.283185307179586\n"
     ]
    },
    {
     "name": "stderr",
     "output_type": "stream",
     "text": [
      "100%|██████████████████████████████████████████████████████████████████████████████████████████████████████████████████████████████████████████████████████████████████████████████████████████████████████████████████████████████████████████████████████████████████████████████████████████████████████████████████████████████████████████████████████████████████████████████████████████████████| 500/500 [23:02<00:00,  2.76s/it]\n"
     ]
    }
   ],
   "source": [
    "epsilon = 0.5\n",
    "CDespilon = CD(epsilon)\n",
    "Nmeas = 8\n",
    "Ntraj = 500\n",
    "trajEstimates = []\n",
    "\n",
    "print(\"Measuring limit = \", np.pi/epsilon)\n",
    "\n",
    "for j in tqdm(range(Ntraj)):\n",
    "    psi = basis(Ncav)\n",
    "    phaseArray = []\n",
    "    measRecord = []\n",
    "\n",
    "    for i in range(Nmeas):\n",
    "        psic = tensor(pState,psi)\n",
    "        psic = CDespilon*psic\n",
    "        phiQb = computePhase(phaseArray,measRecord)\n",
    "        psic = Rz(phiQb)*psic\n",
    "        psic = Rypi2*psic\n",
    "        probg = expect(tensor(Pg,idCav),psic)\n",
    "        if np.random.rand() < probg:\n",
    "            meas = 0\n",
    "            psi = tensor(basis(2).dag(),idCav)*psic\n",
    "            psi = psi.unit()\n",
    "        else:\n",
    "            meas = 1\n",
    "            psi = tensor(basis(2,1).dag(),idCav)*psic\n",
    "            psi = psi.unit()\n",
    "        phaseArray.append(phiQb)\n",
    "        measRecord.append(meas)\n",
    "\n",
    "    trajEstimates.append(phaseEstimate(phaseArray,measRecord)/epsilon/np.sqrt(2))"
   ]
  },
  {
   "cell_type": "code",
   "execution_count": 8,
   "id": "9bcc336e-fb47-4f82-ba5b-e61f297c82db",
   "metadata": {},
   "outputs": [
    {
     "data": {
      "image/png": "[encoded data removed]",
      "text/plain": [
       "<Figure size 640x480 with 1 Axes>"
      ]
     },
     "metadata": {},
     "output_type": "display_data"
    }
   ],
   "source": [
    "fig, ax = plt.subplots()\n",
    "sns.histplot(data=(np.array(trajEstimates)),ax=ax,kde=False,stat=\"density\",bins=100)\n",
    "x = np.linspace(-6,6,100)\n",
    "ax.plot(x, np.abs(np.exp(-x**2/2)*(1/π)**(1/4))**2, 'r--', label='vacuum') # vacuum\n",
    "ax.set_title('Measurement histogram')\n",
    "plt.legend();"
   ]
  },
  {
   "cell_type": "code",
   "execution_count": 10,
   "id": "c164046c-1215-4430-9c86-8ad5f0a66152",
   "metadata": {},
   "outputs": [
    {
     "data": {
      "text/plain": [
       "0.10045667220234406"
      ]
     },
     "execution_count": 10,
     "metadata": {},
     "output_type": "execute_result"
    }
   ],
   "source": [
    "# Note that the distribution for momentum in vacuum should be a gaussian with sigma = 1/sqrt(2).\n",
    "# For code simplicity I multiply the estimates by sqrt(2) to compare to a gaussian with sigma = 1\n",
    "stats.kstest((np.array(trajEstimates)*np.sqrt(2)), \"norm\")[0]"
   ]
  },
  {
   "cell_type": "code",
   "execution_count": null,
   "id": "4a0e2594-a9ed-447c-b18b-e06dc559ab2d",
   "metadata": {},
   "outputs": [],
   "source": []
  }
 ],
 "metadata": {
  "kernelspec": {
   "display_name": "francois37",
   "language": "python",
   "name": "francois37"
  },
  "language_info": {
   "codemirror_mode": {
    "name": "ipython",
    "version": 3
   },
   "file_extension": ".py",
   "mimetype": "text/x-python",
   "name": "python",
   "nbconvert_exporter": "python",
   "pygments_lexer": "ipython3",
   "version": "3.7.16"
  }
 },
 "nbformat": 4,
 "nbformat_minor": 5
}
