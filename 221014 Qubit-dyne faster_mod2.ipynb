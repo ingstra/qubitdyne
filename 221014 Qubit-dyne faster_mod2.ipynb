{
 "cells": [
  {
   "cell_type": "markdown",
   "metadata": {},
   "source": [
    "# Digital homo- and heterodyne detection"
   ]
  },
  {
   "cell_type": "code",
   "execution_count": null,
   "metadata": {},
   "outputs": [],
   "source": [
    "%matplotlib inline\n",
    "\n",
    "import matplotlib.pyplot as plt\n",
    "\n",
    "import numpy as np\n",
    "\n",
    "from qutip import *\n",
    "import time\n",
    "from mpl_toolkits.mplot3d import Axes3D"
   ]
  },
  {
   "cell_type": "code",
   "execution_count": null,
   "metadata": {},
   "outputs": [],
   "source": [
    "N=10\n",
    "\n",
    "idc = qeye(N)\n",
    "ida = qeye(2)\n",
    "a  = tensor(destroy(N), ida)\n",
    "adga = a.dag() * a\n",
    "sm = tensor(idc, destroy(2))\n",
    "sx = tensor(idc, sigmax())\n",
    "sy = tensor(idc, sigmay())\n",
    "sz = tensor(idc, sigmaz())\n",
    "\n",
    "\n",
    "N_cav = tensor(num(N), ida)\n",
    "\n",
    "proj0 = tensor(idc, basis(2,0).proj())\n",
    "proj1 = tensor(idc, basis(2,1).proj())\n",
    "\n",
    "initial_cavity = coherent(N,0.5)\n",
    "\n",
    "psi0 = tensor(initial_cavity, basis(2,0))\n",
    "wigner_fock_distribution(initial_cavity);"
   ]
  },
  {
   "cell_type": "code",
   "execution_count": null,
   "metadata": {},
   "outputs": [],
   "source": [
    "def dispop(alpha):\n",
    "    op = alpha * a.dag() - np.conj(alpha) * a\n",
    "    return op.expm()\n",
    "\n",
    "def interact(g):\n",
    "    op = (-1j) * g * (a.dag() * sm + a * sm.dag())\n",
    "    return op.expm() \n",
    "\n",
    "def rotateX(theta):\n",
    "    op = (-1j) * (theta/2) * sx\n",
    "    return op.expm()\n",
    "\n",
    "def rotateY(theta):\n",
    "    op = (-1j) * (theta/2) * sy\n",
    "    return op.expm()\n",
    "\n",
    "def rotateXY(theta,rotangl):\n",
    "    op = (-1j) * (theta/2) * (np.cos(rotangl)* sx + np.sin(rotangl)* sy)\n",
    "    return op.expm()"
   ]
  },
  {
   "cell_type": "markdown",
   "metadata": {},
   "source": [
    "## Qubit-dyne params"
   ]
  },
  {
   "cell_type": "code",
   "execution_count": null,
   "metadata": {},
   "outputs": [],
   "source": [
    "## Here are a few options that I tested; see how custom weights are defined below\n",
    "\n",
    "Nmeas = 140\n",
    "gint = 0.18\n",
    "expspeed=0\n",
    "\n",
    "Nmeas = 40\n",
    "gint = 0.24\n",
    "expspeed=1\n",
    "\n",
    "Nmeas = 35\n",
    "gint = 0.18\n",
    "expspeed=2.4\n"
   ]
  },
  {
   "cell_type": "code",
   "execution_count": null,
   "metadata": {},
   "outputs": [],
   "source": [
    "Nmeas = 40\n",
    "gint = 0.18\n",
    "expspeed=1.7\n",
    "\n",
    "angmult=np.exp(expspeed*0.5*gint*gint*(np.linspace(0,Nmeas-1,Nmeas)))\n",
    "plt.plot(angmult)\n",
    "\n",
    "intmats=[]\n",
    "for i in range(Nmeas):\n",
    "    intmats.append(interact(gint*angmult[i]))"
   ]
  },
  {
   "cell_type": "markdown",
   "metadata": {},
   "source": [
    "## Run simulation to extract weights"
   ]
  },
  {
   "cell_type": "code",
   "execution_count": null,
   "metadata": {},
   "outputs": [],
   "source": [
    "# Select quadrature\n",
    "rotangl = 0*np.pi/2\n",
    "qbrotmat = rotateXY(np.pi/2,rotangl) # qb rotation applied prior to qb measurement, defines measured homodyne quadrature\n",
    "qbfeedback = rotateX(np.pi) # this pulse will reset the qubit if found in the excited state"
   ]
  },
  {
   "cell_type": "code",
   "execution_count": null,
   "metadata": {},
   "outputs": [],
   "source": [
    "# Find weights by solving unconditional ME\n",
    "\n",
    "n_initial = expect(N_cav, psi0)\n",
    "\n",
    "p1exp = []\n",
    "n_cav = []\n",
    "sxexp = []\n",
    "rho = psi0.proj()\n",
    "\n",
    "for i in range(Nmeas):\n",
    "    \n",
    "    n_cav.append((adga*rho).tr())\n",
    "    intmat = interact(gint*angmult[i])\n",
    "    rho = intmat * rho * intmat.dag()\n",
    "    \n",
    "    p1val= expect(proj1, rho)\n",
    "    p1exp.append(p1val)\n",
    "    \n",
    "    sxval = expect(sy, rho)\n",
    "    sxexp.append(sxval)\n",
    "    \n",
    "    rho = tensor(rho.ptrace(0),basis(2,0).proj())\n",
    "\n",
    "## Define weights based on how much pop is extracted from cavity at each round\n",
    "weights=np.array(p1exp)\n",
    "weights = weights/np.sum(weights)\n",
    "\n",
    "# This correction factor enforces that the measured expectation value of <a> agrees on the reference state\n",
    "corr= np.sqrt(n_initial)/np.sum(sxexp*weights)\n",
    "\n",
    "fig, axes = plt.subplots(1, 3, figsize=(12,3))\n",
    "\n",
    "axes[0].plot(p1exp)\n",
    "# axes[2].plot(0.5-(0.5-np.min(szexp))*np.exp(-np.linspace(0,Nmeas-1,Nmeas)*(gint*gint/2)))\n",
    "lbl2 = axes[0].set_title(\"P1 vs iteration\")\n",
    "\n",
    "axes[1].plot(sxexp)\n",
    "# axes[2].plot(0.5-(0.5-np.min(szexp))*np.exp(-np.linspace(0,Nmeas-1,Nmeas)*(gint*gint/2)))\n",
    "lbl2 = axes[1].set_title(\"<sx> vs iteration\")\n",
    "\n",
    "axes[2].plot(n_cav)\n",
    "lbl2 = axes[2].set_title(\"<adga> vs iteration\")\n",
    "plt.show()"
   ]
  },
  {
   "cell_type": "code",
   "execution_count": null,
   "metadata": {},
   "outputs": [],
   "source": [
    "plt.plot(weights)"
   ]
  },
  {
   "cell_type": "markdown",
   "metadata": {},
   "source": [
    "## Run tomography"
   ]
  },
  {
   "cell_type": "code",
   "execution_count": null,
   "metadata": {},
   "outputs": [],
   "source": [
    "# Repeated homodyne detection: calculate single homodyne shots and collect statistics\n",
    "# Weights are calculated as above\n",
    "\n",
    "# Test Fock\n",
    "psi0= tensor(basis(N,1), basis(2,0)).unit()\n",
    "\n",
    "# Test ca\n",
    "#alphain = 1 #1.41\n",
    "#psi0 = (dispop(alphain) * gnd + dispop(-alphain) * gnd).unit()\n",
    "\n",
    "Ntrajs = 1000\n",
    "\n",
    "quadmeashom = []\n",
    "\n",
    "xrnd = np.random.rand(Ntrajs*Nmeas)\n",
    "\n",
    "for j in range(Ntrajs):\n",
    "    \n",
    "    # xrnd = np.random.rand(Nmeas)\n",
    "    results = []\n",
    "    psi = psi0\n",
    "\n",
    "    for i in range(Nmeas):\n",
    "        #intmat = interact(gint*angmult[i])\n",
    "        intmat = intmats[i]\n",
    "        psi = qbrotmat * (intmat * psi)\n",
    "        # szval=(expect(sz,psi)+1)/2\n",
    "        # if szval>xrnd[j*Nmeas+i]:\n",
    "        prob = expect(proj0,psi)\n",
    "        if prob>xrnd[j*Nmeas+i]:\n",
    "            # measured g\n",
    "            results.append(-1)\n",
    "            psi = (proj0 * psi).unit()\n",
    "        else:\n",
    "            results.append(1)\n",
    "            # measured e\n",
    "            psi = (proj1 * psi).unit()\n",
    "            # go back to g\n",
    "            psi = qbfeedback * psi\n",
    "    \n",
    "    quadmeashom.append(np.sum(results*weights))\n",
    "    # print('.')\n"
   ]
  },
  {
   "cell_type": "code",
   "execution_count": null,
   "metadata": {},
   "outputs": [],
   "source": [
    "plt.hist(np.array(quadmeashom)*corr*np.sqrt(2),60,[-3,3],density=True)\n",
    "\n",
    "k=3\n",
    "x=np.linspace(-k,k,500)\n",
    "plt.plot(x, np.abs((2/np.sqrt(2))*np.exp(-x**2/2)*(1/np.pi)**(1/4)*x)**2) # 1 photon"
   ]
  },
  {
   "cell_type": "code",
   "execution_count": null,
   "metadata": {},
   "outputs": [],
   "source": []
  }
 ],
 "metadata": {
  "kernelspec": {
   "display_name": "Python 3 (ipykernel)",
   "language": "python",
   "name": "python3"
  },
  "language_info": {
   "codemirror_mode": {
    "name": "ipython",
    "version": 3
   },
   "file_extension": ".py",
   "mimetype": "text/x-python",
   "name": "python",
   "nbconvert_exporter": "python",
   "pygments_lexer": "ipython3",
   "version": "3.10.9"
  },
  "widgets": {
   "application/vnd.jupyter.widget-state+json": {
    "state": {},
    "version_major": 2,
    "version_minor": 0
   }
  }
 },
 "nbformat": 4,
 "nbformat_minor": 4
}
