{
 "cells": [
  {
   "cell_type": "markdown",
   "metadata": {},
   "source": [
    "# Digital homo- and heterodyne detection"
   ]
  },
  {
   "cell_type": "code",
   "execution_count": 1,
   "metadata": {},
   "outputs": [],
   "source": [
    "import matplotlib.pyplot as plt\n",
    "import cvxpy as cp\n",
    "from tqdm import tqdm\n",
    "\n",
    "import numpy as np\n",
    "from scipy.special import factorial, eval_hermite\n",
    "from scipy.integrate import quad\n",
    "from qutip import *\n",
    "from scipy.interpolate import interp1d\n",
    "from scipy.stats import kstest\n",
    "from joblib import Parallel, delayed\n",
    "# https://github.com/bayesian-optimization/BayesianOptimization\n",
    "from bayes_opt import BayesianOptimization"
   ]
  },
  {
   "cell_type": "code",
   "execution_count": 2,
   "metadata": {},
   "outputs": [
    {
     "data": {
      "image/png": "[encoded data removed]",
      "text/plain": [
       "<Figure size 800x400 with 2 Axes>"
      ]
     },
     "metadata": {},
     "output_type": "display_data"
    }
   ],
   "source": [
    "N=15\n",
    "\n",
    "idc = qeye(N)\n",
    "ida = qeye(2)\n",
    "a  = tensor(destroy(N), ida)\n",
    "sm = tensor(idc, destroy(2))\n",
    "sx = tensor(idc, sigmax())\n",
    "sy = tensor(idc, sigmay())\n",
    "sz = tensor(idc, sigmaz())\n",
    "\n",
    "# cavity photon number operator\n",
    "N_cav = tensor(num(N), ida)\n",
    "\n",
    "# projection operators to qubit ground and excited state\n",
    "proj0 = tensor(idc, basis(2,0).proj())\n",
    "proj1 = tensor(idc, basis(2,1).proj())\n",
    "\n",
    "\n",
    "initial_cavity = coherent(N, 1j*1)\n",
    "\n",
    "initial_cavity = fock(N,3) \n",
    "\n",
    "alpha = 2\n",
    "initial_cavity = (coherent(N, alpha) + coherent(N,-alpha)).unit()\n",
    "\n",
    "#initial_cavity = (fock(N, 1) + fock(N,2)).unit()\n",
    "\n",
    "psi0 = tensor(initial_cavity, basis(2,0))\n",
    "\n",
    "n_init = expect(N_cav, psi0)\n",
    "\n",
    "plot_wigner_fock_distribution(initial_cavity);"
   ]
  },
  {
   "cell_type": "code",
   "execution_count": 3,
   "metadata": {},
   "outputs": [],
   "source": [
    "def U_interact(g):\n",
    "    op = (-1j) * g * (a.dag() * sm + a * sm.dag())\n",
    "    return op.expm() \n",
    "\n",
    "def rotateX(theta):\n",
    "    op = (-1j) * (theta/2) * sx\n",
    "    return op.expm()\n",
    "\n",
    "def rotateY(theta):\n",
    "    op = (-1j) * (theta/2) * sy\n",
    "    return op.expm()\n",
    "\n",
    "def rotateXY(theta,rotangl):\n",
    "    op = (-1j) * (theta/2) * (np.cos(rotangl)* sx + np.sin(rotangl)* sy)\n",
    "    return op.expm()"
   ]
  },
  {
   "cell_type": "markdown",
   "metadata": {},
   "source": [
    "# Time-dependent coupling"
   ]
  },
  {
   "cell_type": "code",
   "execution_count": 4,
   "metadata": {},
   "outputs": [],
   "source": [
    "dt_total = 1\n",
    "dt = 0.3\n",
    "\n",
    "nangles = 10\n",
    "thetas = np.linspace(0,np.pi, nangles) # list of all angles\n",
    "\n",
    "# histogram parameters\n",
    "Nbins = 40 # number of histogram bins\n",
    "k = 5  # bin edge limit\n",
    "dx =  2*k/Nbins # bin width\n",
    "\n",
    "def find_first_zero(func, tol=5e-2, max=5000):\n",
    "    for i in np.arange(max):\n",
    "        if func(i) < tol:\n",
    "            return i"
   ]
  },
  {
   "cell_type": "markdown",
   "metadata": {},
   "source": [
    "# Tomography for time-dependent case"
   ]
  },
  {
   "cell_type": "markdown",
   "metadata": {},
   "source": [
    "### Prepare operators"
   ]
  },
  {
   "cell_type": "code",
   "execution_count": 5,
   "metadata": {
    "tags": []
   },
   "outputs": [],
   "source": [
    "### Define the harmonic oscillator wavefunction\n",
    "#To create homodyne POVM operators.\n",
    "\n",
    "def wavefunction(x,n):\n",
    "    const = 1/(np.sqrt(2**n * factorial(n)) * (np.pi)**0.25 )\n",
    "    rest = const* np.exp(-x**2/2)\n",
    "    return float(rest*eval_hermite(n,x))\n",
    "\n",
    "### Construct operators\n",
    "\n",
    "def get_Pis(theta, i):\n",
    "    Pi = np.zeros((N,N),dtype=np.complex128)\n",
    "    for m in range(N):\n",
    "        wave_m = lambda x : wavefunction(x, m)\n",
    "        for n in range(N):\n",
    "            wave_n = lambda x: wavefunction(x, n)            \n",
    "            func = lambda x: wave_m(x)*wave_n(x)\n",
    "            Pi[n,m] = quad(func, -k + i*dx, -k + (i+1)*dx)[0]*np.exp(-1j*(n-m)*theta)\n",
    "            \n",
    "    return Pi*2 #\n",
    "\n",
    "Pis = Parallel(n_jobs=16, verbose=0, backend=\"multiprocessing\")(delayed(get_Pis)(theta,i) for theta in thetas for i in range(Nbins))\n",
    "\n",
    "#The list `basis_dms` contains all $\\Omega_k$\n",
    "# construct vectors\n",
    "basis_vectors = []\n",
    "for i in range(N):\n",
    "    vector = fock(N, i)\n",
    "    basis_vectors.append(np.real(vector.full()))\n",
    "    \n",
    "# construct operators\n",
    "basis_dms = []\n",
    "for vector1 in basis_vectors:\n",
    "    for vector2 in basis_vectors:\n",
    "        dm = np.outer(vector1, vector2)\n",
    "        basis_dms.append(dm)\n",
    "\n",
    "### Construct the matrix A in $A\\vec\\rho=\\vec b$\n",
    "#From `Pis` and `basis_dms`.\n",
    "\n",
    "def func(index, a):\n",
    "    return np.trace(Pis[index[0]] @ basis_dms[index[1]])\n",
    "\n",
    "A = np.zeros((len(Pis), N*N), dtype=np.complex64)\n",
    "A_p = Parallel(n_jobs=16, verbose=0, backend=\"multiprocessing\")(delayed(func)(idx,a) for idx, a in np.ndenumerate(A))\n",
    "\n",
    "A = np.reshape(A_p, (len(Pis), N*N))"
   ]
  },
  {
   "cell_type": "code",
   "execution_count": 6,
   "metadata": {},
   "outputs": [],
   "source": [
    "qbfeedback = rotateX(np.pi) # this pulse will reset the qubit if found in the excited state\n",
    "\n",
    "prng = np.random.RandomState(12775425)"
   ]
  },
  {
   "cell_type": "markdown",
   "metadata": {},
   "source": [
    "# opt"
   ]
  },
  {
   "cell_type": "code",
   "execution_count": 42,
   "metadata": {},
   "outputs": [],
   "source": []
  },
  {
   "cell_type": "code",
   "execution_count": 63,
   "metadata": {},
   "outputs": [],
   "source": [
    "def opt_func(c):\n",
    "\n",
    "    \n",
    "    def get_measurements_hist_Nmeas(c, rotangl, kappa, n_init):\n",
    "            \n",
    "        #L = liouvillian(0*a, [np.sqrt(kappa*dt_total)*a])\n",
    "        #op = L.expm()\n",
    "    \n",
    "        \n",
    "        qbrotmat = rotateXY(np.pi/2,rotangl) # qb rotation applied prior to qb measurement, defines measured homodyne quadrature\n",
    "        \n",
    "        quadmeashom = []\n",
    "        \n",
    "        def g_timedep(c,i):\n",
    "            #return c*np.exp(exp*i*dt)\n",
    "            #return 1/(1+ np.exp(-i*exp+c))\n",
    "            return c*i + 0.1*np.pi/2\n",
    "        \n",
    "        def calc_weights(step):\n",
    "            g_timedep_list = np.array([g_timedep(c,i)/np.sqrt(dt) for i in range(step+1)])\n",
    "            exponent = np.trapz(g_timedep_list**2,dx=dt)\n",
    "            return  g_timedep(c,step)*np.sqrt(1/2)*np.exp(-exponent/2)\n",
    "    \n",
    "        def pop_time_evol(step):\n",
    "            g_timedep_list = np.array([g_timedep(c,i)/np.sqrt(dt) for i in range(step+1)])\n",
    "            exponent = np.trapz(g_timedep_list**2,dx=dt)\n",
    "            return n_init*np.exp(-exponent)\n",
    "            \n",
    "        \n",
    "        Nmeas = 120\n",
    "        \n",
    "        calculated_weights = np.array([calc_weights(step) for step in range(Nmeas)])\n",
    "    \n",
    "        for j in tqdm(range(Ntrajs), leave=False):\n",
    "            xrnd = prng.rand(Nmeas)\n",
    "    \n",
    "            results = []\n",
    "            psi = psi0\n",
    "    \n",
    "            for i in range(Nmeas):\n",
    "                U_int = U_interact(g_timedep(c,i))\n",
    "                U = qbrotmat * U_int\n",
    "                psi = U * psi #* U.dag()\n",
    "                prob = expect(proj0,psi)          \n",
    "    \n",
    "                # deterministic loss \n",
    "                #vec_rho = operator_to_vector(psi)          \n",
    "                #psi = vector_to_operator(op*vec_rho)\n",
    "    \n",
    "                if prob > xrnd[i]:\n",
    "                    # measured g\n",
    "                    #results.append(-1 if error[i] <= correct_prob else 1) \n",
    "                    results.append(-1)\n",
    "                    psi = (proj0 * psi).unit()\n",
    "                    #psi = (proj0 * psi * proj0).unit()\n",
    "                else:\n",
    "                    #results.append(1 if error[i] <= correct_prob else -1)\n",
    "                    results.append(1)\n",
    "                    # measured e\n",
    "                    #psi = (proj1 * psi * proj1 ).unit()\n",
    "                    psi = (proj1 * psi).unit()\n",
    "                    # go back to g\n",
    "                    #psi = qbfeedback * psi* qbfeedback.dag()\n",
    "                    psi = qbfeedback * psi\n",
    "        \n",
    "            quadmeashom.append(np.sum(results*calculated_weights))\n",
    "    \n",
    "        ### create histogram ###    \n",
    "        hist, bins = np.histogram(quadmeashom,Nbins,[-k,k], density=True)    \n",
    "    \n",
    "        return hist \n",
    "\n",
    "    b_all = Parallel(n_jobs=nangles, verbose=5, backend=\"loky\")(delayed(get_measurements_hist_Nmeas)(c, rotangl, kappa, n_init) for rotangl in thetas)\n",
    "\n",
    "    # Load homodyne data into vector $\\vec b$\n",
    "    b = np.concatenate([array for array in b_all])\n",
    "    \n",
    "    # Define the unknown state as a $N\\times N$ Hermitian matrix\n",
    "    \n",
    "    X = cp.Variable((N,N), hermitian=True)\n",
    "    \n",
    "    #Set the cost function to $\\|A\\vec\\rho - \\vec b\\|_2$ where the vectorized state is given by `cp.vec(X)`.\n",
    "    \n",
    "    cost = cp.norm(A @ cp.vec(X) - b, 2) \n",
    "    \n",
    "    #Set the trace constraint and positive-semidefinite constraint\n",
    "    constraints = [cp.trace(X) == 1, X >> 0 ]\n",
    "    \n",
    "    #Set up and solve the problem!\n",
    "    \n",
    "    prob = cp.Problem(cp.Minimize(cost), constraints)\n",
    "    prob.solve(verbose=False, solver='SCS')\n",
    "    \n",
    "    # Assign the optimized state X to a Qobj.\n",
    "    reconstructed_rho = Qobj(X.value)\n",
    "    f=fidelity(reconstructed_rho, initial_cavity)**2\n",
    "\n",
    "    # \n",
    "    return f"
   ]
  },
  {
   "cell_type": "code",
   "execution_count": 65,
   "metadata": {},
   "outputs": [
    {
     "name": "stdout",
     "output_type": "stream",
     "text": [
      "|   iter    |  target   |     c     |\n",
      "-------------------------------------\n"
     ]
    },
    {
     "name": "stderr",
     "output_type": "stream",
     "text": [
      "[Parallel(n_jobs=10)]: Using backend LokyBackend with 10 concurrent workers.\n",
      "                                                 [Parallel(n_jobs=10)]: Done   3 out of  10 | elapsed:  1.7min remaining:  3.9min\n",
      "                                                 [Parallel(n_jobs=10)]: Done   6 out of  10 | elapsed:  1.7min remaining:  1.1min\n",
      "                                                 [Parallel(n_jobs=10)]: Done  10 out of  10 | elapsed:  1.7min finished\n"
     ]
    },
    {
     "name": "stdout",
     "output_type": "stream",
     "text": [
      "| \u001b[0m1        \u001b[0m | \u001b[0m0.9822   \u001b[0m | \u001b[0m0.004753 \u001b[0m |\n"
     ]
    },
    {
     "name": "stderr",
     "output_type": "stream",
     "text": [
      "[Parallel(n_jobs=10)]: Using backend LokyBackend with 10 concurrent workers.\n",
      "                                                 [Parallel(n_jobs=10)]: Done   3 out of  10 | elapsed:  1.7min remaining:  3.9min\n",
      "                                                 [Parallel(n_jobs=10)]: Done   6 out of  10 | elapsed:  1.7min remaining:  1.2min\n",
      "                                                 [Parallel(n_jobs=10)]: Done  10 out of  10 | elapsed:  1.8min finished\n"
     ]
    },
    {
     "name": "stdout",
     "output_type": "stream",
     "text": [
      "| \u001b[95m2        \u001b[0m | \u001b[95m0.9851   \u001b[0m | \u001b[95m0.007483 \u001b[0m |\n"
     ]
    },
    {
     "name": "stderr",
     "output_type": "stream",
     "text": [
      "[Parallel(n_jobs=10)]: Using backend LokyBackend with 10 concurrent workers.\n",
      "                                                 [Parallel(n_jobs=10)]: Done   3 out of  10 | elapsed:  1.8min remaining:  4.2min\n",
      "                                                 [Parallel(n_jobs=10)]: Done   6 out of  10 | elapsed:  1.9min remaining:  1.3min\n",
      "                                                 [Parallel(n_jobs=10)]: Done  10 out of  10 | elapsed:  1.9min finished\n"
     ]
    },
    {
     "name": "stdout",
     "output_type": "stream",
     "text": [
      "| \u001b[0m3        \u001b[0m | \u001b[0m0.9821   \u001b[0m | \u001b[0m0.001001 \u001b[0m |\n"
     ]
    },
    {
     "name": "stderr",
     "output_type": "stream",
     "text": [
      "[Parallel(n_jobs=10)]: Using backend LokyBackend with 10 concurrent workers.\n",
      "                                                 [Parallel(n_jobs=10)]: Done   3 out of  10 | elapsed:  2.1min remaining:  4.9min\n",
      " 92%|█████████▏| 184/200 [02:10<00:04,  3.81it/s][Parallel(n_jobs=10)]: Done   6 out of  10 | elapsed:  2.2min remaining:  1.4min\n",
      "                                                 [Parallel(n_jobs=10)]: Done  10 out of  10 | elapsed:  2.3min finished\n"
     ]
    },
    {
     "name": "stdout",
     "output_type": "stream",
     "text": [
      "| \u001b[0m4        \u001b[0m | \u001b[0m0.9769   \u001b[0m | \u001b[0m0.003721 \u001b[0m |\n"
     ]
    },
    {
     "name": "stderr",
     "output_type": "stream",
     "text": [
      "[Parallel(n_jobs=10)]: Using backend LokyBackend with 10 concurrent workers.\n",
      "                                                 [Parallel(n_jobs=10)]: Done   3 out of  10 | elapsed:  1.8min remaining:  4.3min\n",
      "                                                 [Parallel(n_jobs=10)]: Done   6 out of  10 | elapsed:  1.9min remaining:  1.3min\n",
      "                                                 [Parallel(n_jobs=10)]: Done  10 out of  10 | elapsed:  1.9min finished\n"
     ]
    },
    {
     "name": "stdout",
     "output_type": "stream",
     "text": [
      "| \u001b[95m5        \u001b[0m | \u001b[95m0.9885   \u001b[0m | \u001b[95m0.002321 \u001b[0m |\n"
     ]
    },
    {
     "name": "stderr",
     "output_type": "stream",
     "text": [
      "[Parallel(n_jobs=10)]: Using backend LokyBackend with 10 concurrent workers.\n",
      "                                                 [Parallel(n_jobs=10)]: Done   3 out of  10 | elapsed:  1.6min remaining:  3.8min\n",
      "                                                 [Parallel(n_jobs=10)]: Done   6 out of  10 | elapsed:  1.7min remaining:  1.1min\n",
      "                                                 [Parallel(n_jobs=10)]: Done  10 out of  10 | elapsed:  1.7min finished\n"
     ]
    },
    {
     "name": "stdout",
     "output_type": "stream",
     "text": [
      "| \u001b[0m6        \u001b[0m | \u001b[0m0.9881   \u001b[0m | \u001b[0m0.002039 \u001b[0m |\n"
     ]
    },
    {
     "name": "stderr",
     "output_type": "stream",
     "text": [
      "[Parallel(n_jobs=10)]: Using backend LokyBackend with 10 concurrent workers.\n",
      "                                                 [Parallel(n_jobs=10)]: Done   3 out of  10 | elapsed:  1.6min remaining:  3.7min\n",
      "                                                 [Parallel(n_jobs=10)]: Done   6 out of  10 | elapsed:  1.6min remaining:  1.1min\n",
      "                                                 [Parallel(n_jobs=10)]: Done  10 out of  10 | elapsed:  1.7min finished\n"
     ]
    },
    {
     "name": "stdout",
     "output_type": "stream",
     "text": [
      "| \u001b[0m7        \u001b[0m | \u001b[0m0.9841   \u001b[0m | \u001b[0m0.0088   \u001b[0m |\n"
     ]
    },
    {
     "name": "stderr",
     "output_type": "stream",
     "text": [
      "[Parallel(n_jobs=10)]: Using backend LokyBackend with 10 concurrent workers.\n",
      "                                                 [Parallel(n_jobs=10)]: Done   3 out of  10 | elapsed:  1.7min remaining:  3.9min\n",
      "                                                 [Parallel(n_jobs=10)]: Done   6 out of  10 | elapsed:  1.7min remaining:  1.1min\n",
      "                                                 [Parallel(n_jobs=10)]: Done  10 out of  10 | elapsed:  1.8min finished\n"
     ]
    },
    {
     "name": "stdout",
     "output_type": "stream",
     "text": [
      "| \u001b[0m8        \u001b[0m | \u001b[0m0.983    \u001b[0m | \u001b[0m0.006333 \u001b[0m |\n"
     ]
    },
    {
     "name": "stderr",
     "output_type": "stream",
     "text": [
      "[Parallel(n_jobs=10)]: Using backend LokyBackend with 10 concurrent workers.\n",
      "                                                 [Parallel(n_jobs=10)]: Done   3 out of  10 | elapsed:  2.1min remaining:  5.0min\n",
      "                                                 [Parallel(n_jobs=10)]: Done   6 out of  10 | elapsed:  2.2min remaining:  1.5min\n",
      "                                                 [Parallel(n_jobs=10)]: Done  10 out of  10 | elapsed:  2.3min finished\n"
     ]
    },
    {
     "name": "stdout",
     "output_type": "stream",
     "text": [
      "| \u001b[0m9        \u001b[0m | \u001b[0m0.9879   \u001b[0m | \u001b[0m0.00231  \u001b[0m |\n"
     ]
    },
    {
     "name": "stderr",
     "output_type": "stream",
     "text": [
      "[Parallel(n_jobs=10)]: Using backend LokyBackend with 10 concurrent workers.\n",
      "                                                 [Parallel(n_jobs=10)]: Done   3 out of  10 | elapsed:  1.9min remaining:  4.5min\n",
      "                                                 [Parallel(n_jobs=10)]: Done   6 out of  10 | elapsed:  2.0min remaining:  1.3min\n",
      "                                                 [Parallel(n_jobs=10)]: Done  10 out of  10 | elapsed:  2.1min finished\n"
     ]
    },
    {
     "name": "stdout",
     "output_type": "stream",
     "text": [
      "| \u001b[0m10       \u001b[0m | \u001b[0m0.9872   \u001b[0m | \u001b[0m0.002418 \u001b[0m |\n"
     ]
    },
    {
     "name": "stderr",
     "output_type": "stream",
     "text": [
      "[Parallel(n_jobs=10)]: Using backend LokyBackend with 10 concurrent workers.\n",
      "                                                 [Parallel(n_jobs=10)]: Done   3 out of  10 | elapsed:  1.5min remaining:  3.5min\n",
      "                                                 [Parallel(n_jobs=10)]: Done   6 out of  10 | elapsed:  1.5min remaining:  1.0min\n",
      "                                                 [Parallel(n_jobs=10)]: Done  10 out of  10 | elapsed:  1.6min finished\n"
     ]
    },
    {
     "name": "stdout",
     "output_type": "stream",
     "text": [
      "| \u001b[0m11       \u001b[0m | \u001b[0m0.9863   \u001b[0m | \u001b[0m0.00193  \u001b[0m |\n",
      "=====================================\n",
      "{'target': 0.9884885234512988, 'params': {'c': 0.0023208030173540173}}\n",
      "CPU times: user 25.8 s, sys: 22.6 s, total: 48.3 s\n",
      "Wall time: 20min 56s\n"
     ]
    },
    {
     "name": "stderr",
     "output_type": "stream",
     "text": []
    },
    {
     "name": "stderr",
     "output_type": "stream",
     "text": []
    },
    {
     "name": "stderr",
     "output_type": "stream",
     "text": []
    },
    {
     "name": "stderr",
     "output_type": "stream",
     "text": []
    },
    {
     "name": "stderr",
     "output_type": "stream",
     "text": []
    }
   ],
   "source": [
    "%%time\n",
    "\n",
    "kappa = 0.00\n",
    "Ntrajs = 200\n",
    "\n",
    "\n",
    "pbounds = {'c': (0.001, 0.01)}\n",
    "\n",
    "optimizer = BayesianOptimization(\n",
    "    f=opt_func,\n",
    "    pbounds=pbounds,\n",
    "    verbose=2, # verbose = 1 prints only when a maximum is observed, verbose = 0 is silent\n",
    "    random_state=1,\n",
    ")\n",
    "\n",
    "optimizer.maximize(init_points=5, n_iter=6,)\n",
    "print(optimizer.max)"
   ]
  },
  {
   "cell_type": "markdown",
   "metadata": {},
   "source": [
    "# Test opt result"
   ]
  },
  {
   "cell_type": "code",
   "execution_count": 40,
   "metadata": {},
   "outputs": [],
   "source": [
    "c_opt = optimizer.max['params']['c'];\n",
    "exp_opt = optimizer.max['params']['exp'];"
   ]
  },
  {
   "cell_type": "code",
   "execution_count": 44,
   "metadata": {},
   "outputs": [
    {
     "name": "stderr",
     "output_type": "stream",
     "text": [
      "[Parallel(n_jobs=10)]: Using backend LokyBackend with 10 concurrent workers.\n",
      "                                                 [Parallel(n_jobs=10)]: Done   3 out of  10 | elapsed:  4.1min remaining:  9.6min\n",
      "                                                 [Parallel(n_jobs=10)]: Done   6 out of  10 | elapsed:  4.2min remaining:  2.8min\n",
      "                                                 [Parallel(n_jobs=10)]: Done  10 out of  10 | elapsed:  4.3min finished\n"
     ]
    },
    {
     "data": {
      "image/png": "[encoded data removed]",
      "text/plain": [
       "<Figure size 800x400 with 2 Axes>"
      ]
     },
     "metadata": {},
     "output_type": "display_data"
    }
   ],
   "source": [
    "Ntrajs = 300\n",
    "\n",
    "b_all = Parallel(n_jobs=nangles, verbose=5, backend=\"loky\")(delayed(get_measurements_hist_Nmeas)(c_opt, exp_opt, rotangl, kappa, n_init) for rotangl in thetas)\n",
    "\n",
    "# Load homodyne data into vector $\\vec b$\n",
    "b = np.concatenate([array for array in b_all])\n",
    "\n",
    "# Define the unknown state as a $N\\times N$ Hermitian matrix\n",
    "\n",
    "X = cp.Variable((N,N), hermitian=True)\n",
    "\n",
    "#Set the cost function to $\\|A\\vec\\rho - \\vec b\\|_2$ where the vectorized state is given by `cp.vec(X)`.\n",
    "\n",
    "cost = cp.norm(A @ cp.vec(X) - b, 2) \n",
    "\n",
    "#Set the trace constraint and positive-semidefinite constraint\n",
    "constraints = [cp.trace(X) == 1, X >> 0 ]\n",
    "\n",
    "#Set up and solve the problem!\n",
    "\n",
    "prob = cp.Problem(cp.Minimize(cost), constraints)\n",
    "prob.solve(verbose=False, solver='SCS')\n",
    "\n",
    "# Assign the optimized state X to a Qobj.\n",
    "reconstructed_rho = Qobj(X.value)\n",
    "\n",
    "### Visualize results\n",
    "\n",
    "#Plot the reconstructed state \n",
    "alpha_max = 5\n",
    "fig, ax = plot_wigner_fock_distribution(reconstructed_rho, alpha_max=5)\n",
    "ax[0].set_title(\"Reconstructed state\")\n",
    "\n",
    "f=fidelity(reconstructed_rho, initial_cavity)**2\n",
    "ax[1].set_title(\"Fidelity %.3f\"%(f));"
   ]
  },
  {
   "cell_type": "code",
   "execution_count": 45,
   "metadata": {},
   "outputs": [
    {
     "data": {
      "image/png": "[encoded data removed]",
      "text/plain": [
       "<Figure size 640x480 with 1 Axes>"
      ]
     },
     "metadata": {},
     "output_type": "display_data"
    }
   ],
   "source": [
    "x_hist = np.linspace(-k,k,Nbins)\n",
    "width = np.diff(x_hist)[0]\n",
    "plt.bar(x_hist,b_all[0], align='center', width=width, edgecolor='k');"
   ]
  },
  {
   "cell_type": "code",
   "execution_count": null,
   "metadata": {},
   "outputs": [],
   "source": []
  }
 ],
 "metadata": {
  "kernelspec": {
   "display_name": "francois37",
   "language": "python",
   "name": "francois37"
  },
  "language_info": {
   "codemirror_mode": {
    "name": "ipython",
    "version": 3
   },
   "file_extension": ".py",
   "mimetype": "text/x-python",
   "name": "python",
   "nbconvert_exporter": "python",
   "pygments_lexer": "ipython3",
   "version": "3.7.16"
  },
  "widgets": {
   "application/vnd.jupyter.widget-state+json": {
    "state": {},
    "version_major": 2,
    "version_minor": 0
   }
  }
 },
 "nbformat": 4,
 "nbformat_minor": 4
}
